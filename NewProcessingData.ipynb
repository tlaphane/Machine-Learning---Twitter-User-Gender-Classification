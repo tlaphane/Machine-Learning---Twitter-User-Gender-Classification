{
 "cells": [
  {
   "cell_type": "code",
   "execution_count": 1,
   "metadata": {},
   "outputs": [
    {
     "name": "stdout",
     "output_type": "stream",
     "text": [
      "data is loaded\n"
     ]
    }
   ],
   "source": [
    "import pandas as pd\n",
    "# import_source=\"https://raw.githubusercontent.com/tlaphane/Machine-Learning---Twitter-User-Gender-Classification/master/gender-classifier-DFE-791531.csv\"\n",
    "df = pd.read_csv('gender-classifier-DFE-791531.csv',encoding='latin1')\n",
    "print(\"data is loaded\")"
   ]
  },
  {
   "cell_type": "code",
   "execution_count": 2,
   "metadata": {},
   "outputs": [
    {
     "data": {
      "text/html": [
       "<div>\n",
       "<style scoped>\n",
       "    .dataframe tbody tr th:only-of-type {\n",
       "        vertical-align: middle;\n",
       "    }\n",
       "\n",
       "    .dataframe tbody tr th {\n",
       "        vertical-align: top;\n",
       "    }\n",
       "\n",
       "    .dataframe thead th {\n",
       "        text-align: right;\n",
       "    }\n",
       "</style>\n",
       "<table border=\"1\" class=\"dataframe\">\n",
       "  <thead>\n",
       "    <tr style=\"text-align: right;\">\n",
       "      <th></th>\n",
       "      <th>_unit_id</th>\n",
       "      <th>_golden</th>\n",
       "      <th>_unit_state</th>\n",
       "      <th>_trusted_judgments</th>\n",
       "      <th>_last_judgment_at</th>\n",
       "      <th>gender</th>\n",
       "      <th>gender:confidence</th>\n",
       "      <th>profile_yn</th>\n",
       "      <th>profile_yn:confidence</th>\n",
       "      <th>created</th>\n",
       "      <th>...</th>\n",
       "      <th>profileimage</th>\n",
       "      <th>retweet_count</th>\n",
       "      <th>sidebar_color</th>\n",
       "      <th>text</th>\n",
       "      <th>tweet_coord</th>\n",
       "      <th>tweet_count</th>\n",
       "      <th>tweet_created</th>\n",
       "      <th>tweet_id</th>\n",
       "      <th>tweet_location</th>\n",
       "      <th>user_timezone</th>\n",
       "    </tr>\n",
       "  </thead>\n",
       "  <tbody>\n",
       "    <tr>\n",
       "      <th>0</th>\n",
       "      <td>815719226</td>\n",
       "      <td>False</td>\n",
       "      <td>finalized</td>\n",
       "      <td>3</td>\n",
       "      <td>10/26/15 23:24</td>\n",
       "      <td>male</td>\n",
       "      <td>1.0000</td>\n",
       "      <td>yes</td>\n",
       "      <td>1.0</td>\n",
       "      <td>12/5/13 1:48</td>\n",
       "      <td>...</td>\n",
       "      <td>https://pbs.twimg.com/profile_images/414342229...</td>\n",
       "      <td>0</td>\n",
       "      <td>FFFFFF</td>\n",
       "      <td>Robbie E Responds To Critics After Win Against...</td>\n",
       "      <td>NaN</td>\n",
       "      <td>110964</td>\n",
       "      <td>10/26/15 12:40</td>\n",
       "      <td>6.587300e+17</td>\n",
       "      <td>main; @Kan1shk3</td>\n",
       "      <td>Chennai</td>\n",
       "    </tr>\n",
       "    <tr>\n",
       "      <th>1</th>\n",
       "      <td>815719227</td>\n",
       "      <td>False</td>\n",
       "      <td>finalized</td>\n",
       "      <td>3</td>\n",
       "      <td>10/26/15 23:30</td>\n",
       "      <td>male</td>\n",
       "      <td>1.0000</td>\n",
       "      <td>yes</td>\n",
       "      <td>1.0</td>\n",
       "      <td>10/1/12 13:51</td>\n",
       "      <td>...</td>\n",
       "      <td>https://pbs.twimg.com/profile_images/539604221...</td>\n",
       "      <td>0</td>\n",
       "      <td>C0DEED</td>\n",
       "      <td>ÛÏIt felt like they were my friends and I was...</td>\n",
       "      <td>NaN</td>\n",
       "      <td>7471</td>\n",
       "      <td>10/26/15 12:40</td>\n",
       "      <td>6.587300e+17</td>\n",
       "      <td>NaN</td>\n",
       "      <td>Eastern Time (US &amp; Canada)</td>\n",
       "    </tr>\n",
       "    <tr>\n",
       "      <th>2</th>\n",
       "      <td>815719228</td>\n",
       "      <td>False</td>\n",
       "      <td>finalized</td>\n",
       "      <td>3</td>\n",
       "      <td>10/26/15 23:33</td>\n",
       "      <td>male</td>\n",
       "      <td>0.6625</td>\n",
       "      <td>yes</td>\n",
       "      <td>1.0</td>\n",
       "      <td>11/28/14 11:30</td>\n",
       "      <td>...</td>\n",
       "      <td>https://pbs.twimg.com/profile_images/657330418...</td>\n",
       "      <td>1</td>\n",
       "      <td>C0DEED</td>\n",
       "      <td>i absolutely adore when louis starts the songs...</td>\n",
       "      <td>NaN</td>\n",
       "      <td>5617</td>\n",
       "      <td>10/26/15 12:40</td>\n",
       "      <td>6.587300e+17</td>\n",
       "      <td>clcncl</td>\n",
       "      <td>Belgrade</td>\n",
       "    </tr>\n",
       "    <tr>\n",
       "      <th>3</th>\n",
       "      <td>815719229</td>\n",
       "      <td>False</td>\n",
       "      <td>finalized</td>\n",
       "      <td>3</td>\n",
       "      <td>10/26/15 23:10</td>\n",
       "      <td>male</td>\n",
       "      <td>1.0000</td>\n",
       "      <td>yes</td>\n",
       "      <td>1.0</td>\n",
       "      <td>6/11/09 22:39</td>\n",
       "      <td>...</td>\n",
       "      <td>https://pbs.twimg.com/profile_images/259703936...</td>\n",
       "      <td>0</td>\n",
       "      <td>C0DEED</td>\n",
       "      <td>Hi @JordanSpieth - Looking at the url - do you...</td>\n",
       "      <td>NaN</td>\n",
       "      <td>1693</td>\n",
       "      <td>10/26/15 12:40</td>\n",
       "      <td>6.587300e+17</td>\n",
       "      <td>Palo Alto, CA</td>\n",
       "      <td>Pacific Time (US &amp; Canada)</td>\n",
       "    </tr>\n",
       "    <tr>\n",
       "      <th>4</th>\n",
       "      <td>815719230</td>\n",
       "      <td>False</td>\n",
       "      <td>finalized</td>\n",
       "      <td>3</td>\n",
       "      <td>10/27/15 1:15</td>\n",
       "      <td>female</td>\n",
       "      <td>1.0000</td>\n",
       "      <td>yes</td>\n",
       "      <td>1.0</td>\n",
       "      <td>4/16/14 13:23</td>\n",
       "      <td>...</td>\n",
       "      <td>https://pbs.twimg.com/profile_images/564094871...</td>\n",
       "      <td>0</td>\n",
       "      <td>0</td>\n",
       "      <td>Watching Neighbours on Sky+ catching up with t...</td>\n",
       "      <td>NaN</td>\n",
       "      <td>31462</td>\n",
       "      <td>10/26/15 12:40</td>\n",
       "      <td>6.587300e+17</td>\n",
       "      <td>NaN</td>\n",
       "      <td>NaN</td>\n",
       "    </tr>\n",
       "    <tr>\n",
       "      <th>5</th>\n",
       "      <td>815719231</td>\n",
       "      <td>False</td>\n",
       "      <td>finalized</td>\n",
       "      <td>3</td>\n",
       "      <td>10/27/15 1:47</td>\n",
       "      <td>female</td>\n",
       "      <td>1.0000</td>\n",
       "      <td>yes</td>\n",
       "      <td>1.0</td>\n",
       "      <td>3/11/10 18:14</td>\n",
       "      <td>...</td>\n",
       "      <td>https://pbs.twimg.com/profile_images/656336865...</td>\n",
       "      <td>0</td>\n",
       "      <td>0</td>\n",
       "      <td>Ive seen people on the train with lamps, chair...</td>\n",
       "      <td>NaN</td>\n",
       "      <td>20036</td>\n",
       "      <td>10/26/15 12:40</td>\n",
       "      <td>6.587300e+17</td>\n",
       "      <td>New York Gritty</td>\n",
       "      <td>Central Time (US &amp; Canada)</td>\n",
       "    </tr>\n",
       "    <tr>\n",
       "      <th>6</th>\n",
       "      <td>815719232</td>\n",
       "      <td>False</td>\n",
       "      <td>finalized</td>\n",
       "      <td>3</td>\n",
       "      <td>10/27/15 1:57</td>\n",
       "      <td>brand</td>\n",
       "      <td>1.0000</td>\n",
       "      <td>yes</td>\n",
       "      <td>1.0</td>\n",
       "      <td>4/24/08 13:03</td>\n",
       "      <td>...</td>\n",
       "      <td>https://pbs.twimg.com/profile_images/528547133...</td>\n",
       "      <td>0</td>\n",
       "      <td>0</td>\n",
       "      <td>@BpackEngineer Thank you for your patience whi...</td>\n",
       "      <td>NaN</td>\n",
       "      <td>13354</td>\n",
       "      <td>10/26/15 12:40</td>\n",
       "      <td>6.587300e+17</td>\n",
       "      <td>Worldwide</td>\n",
       "      <td>Eastern Time (US &amp; Canada)</td>\n",
       "    </tr>\n",
       "    <tr>\n",
       "      <th>7</th>\n",
       "      <td>815719233</td>\n",
       "      <td>False</td>\n",
       "      <td>finalized</td>\n",
       "      <td>3</td>\n",
       "      <td>10/26/15 23:48</td>\n",
       "      <td>male</td>\n",
       "      <td>1.0000</td>\n",
       "      <td>yes</td>\n",
       "      <td>1.0</td>\n",
       "      <td>12/3/12 21:54</td>\n",
       "      <td>...</td>\n",
       "      <td>https://pbs.twimg.com/profile_images/508875440...</td>\n",
       "      <td>0</td>\n",
       "      <td>C0DEED</td>\n",
       "      <td>Gala Bingo clubs bought for å£241m: The UK's l...</td>\n",
       "      <td>NaN</td>\n",
       "      <td>112117</td>\n",
       "      <td>10/26/15 12:40</td>\n",
       "      <td>6.587300e+17</td>\n",
       "      <td>NaN</td>\n",
       "      <td>NaN</td>\n",
       "    </tr>\n",
       "    <tr>\n",
       "      <th>8</th>\n",
       "      <td>815719234</td>\n",
       "      <td>False</td>\n",
       "      <td>finalized</td>\n",
       "      <td>3</td>\n",
       "      <td>10/27/15 1:52</td>\n",
       "      <td>female</td>\n",
       "      <td>1.0000</td>\n",
       "      <td>yes</td>\n",
       "      <td>1.0</td>\n",
       "      <td>9/8/15 4:50</td>\n",
       "      <td>...</td>\n",
       "      <td>https://pbs.twimg.com/profile_images/658670112...</td>\n",
       "      <td>0</td>\n",
       "      <td>0</td>\n",
       "      <td>@_Aphmau_ the pic defines all mcd fangirls/fan...</td>\n",
       "      <td>NaN</td>\n",
       "      <td>482</td>\n",
       "      <td>10/26/15 12:40</td>\n",
       "      <td>6.587300e+17</td>\n",
       "      <td>NaN</td>\n",
       "      <td>NaN</td>\n",
       "    </tr>\n",
       "    <tr>\n",
       "      <th>9</th>\n",
       "      <td>815719235</td>\n",
       "      <td>False</td>\n",
       "      <td>finalized</td>\n",
       "      <td>3</td>\n",
       "      <td>10/27/15 1:49</td>\n",
       "      <td>female</td>\n",
       "      <td>1.0000</td>\n",
       "      <td>yes</td>\n",
       "      <td>1.0</td>\n",
       "      <td>5/13/11 3:32</td>\n",
       "      <td>...</td>\n",
       "      <td>https://pbs.twimg.com/profile_images/513327289...</td>\n",
       "      <td>0</td>\n",
       "      <td>FFFFFF</td>\n",
       "      <td>@Evielady just how lovely is the tree this yea...</td>\n",
       "      <td>NaN</td>\n",
       "      <td>26085</td>\n",
       "      <td>10/26/15 12:40</td>\n",
       "      <td>6.587300e+17</td>\n",
       "      <td>Nottingham, England.</td>\n",
       "      <td>Amsterdam</td>\n",
       "    </tr>\n",
       "  </tbody>\n",
       "</table>\n",
       "<p>10 rows × 26 columns</p>\n",
       "</div>"
      ],
      "text/plain": [
       "    _unit_id  _golden _unit_state  _trusted_judgments _last_judgment_at  \\\n",
       "0  815719226    False   finalized                   3    10/26/15 23:24   \n",
       "1  815719227    False   finalized                   3    10/26/15 23:30   \n",
       "2  815719228    False   finalized                   3    10/26/15 23:33   \n",
       "3  815719229    False   finalized                   3    10/26/15 23:10   \n",
       "4  815719230    False   finalized                   3     10/27/15 1:15   \n",
       "5  815719231    False   finalized                   3     10/27/15 1:47   \n",
       "6  815719232    False   finalized                   3     10/27/15 1:57   \n",
       "7  815719233    False   finalized                   3    10/26/15 23:48   \n",
       "8  815719234    False   finalized                   3     10/27/15 1:52   \n",
       "9  815719235    False   finalized                   3     10/27/15 1:49   \n",
       "\n",
       "   gender  gender:confidence profile_yn  profile_yn:confidence  \\\n",
       "0    male             1.0000        yes                    1.0   \n",
       "1    male             1.0000        yes                    1.0   \n",
       "2    male             0.6625        yes                    1.0   \n",
       "3    male             1.0000        yes                    1.0   \n",
       "4  female             1.0000        yes                    1.0   \n",
       "5  female             1.0000        yes                    1.0   \n",
       "6   brand             1.0000        yes                    1.0   \n",
       "7    male             1.0000        yes                    1.0   \n",
       "8  female             1.0000        yes                    1.0   \n",
       "9  female             1.0000        yes                    1.0   \n",
       "\n",
       "          created  ...                                       profileimage  \\\n",
       "0    12/5/13 1:48  ...  https://pbs.twimg.com/profile_images/414342229...   \n",
       "1   10/1/12 13:51  ...  https://pbs.twimg.com/profile_images/539604221...   \n",
       "2  11/28/14 11:30  ...  https://pbs.twimg.com/profile_images/657330418...   \n",
       "3   6/11/09 22:39  ...  https://pbs.twimg.com/profile_images/259703936...   \n",
       "4   4/16/14 13:23  ...  https://pbs.twimg.com/profile_images/564094871...   \n",
       "5   3/11/10 18:14  ...  https://pbs.twimg.com/profile_images/656336865...   \n",
       "6   4/24/08 13:03  ...  https://pbs.twimg.com/profile_images/528547133...   \n",
       "7   12/3/12 21:54  ...  https://pbs.twimg.com/profile_images/508875440...   \n",
       "8     9/8/15 4:50  ...  https://pbs.twimg.com/profile_images/658670112...   \n",
       "9    5/13/11 3:32  ...  https://pbs.twimg.com/profile_images/513327289...   \n",
       "\n",
       "   retweet_count sidebar_color  \\\n",
       "0              0        FFFFFF   \n",
       "1              0        C0DEED   \n",
       "2              1        C0DEED   \n",
       "3              0        C0DEED   \n",
       "4              0             0   \n",
       "5              0             0   \n",
       "6              0             0   \n",
       "7              0        C0DEED   \n",
       "8              0             0   \n",
       "9              0        FFFFFF   \n",
       "\n",
       "                                                text tweet_coord tweet_count  \\\n",
       "0  Robbie E Responds To Critics After Win Against...         NaN      110964   \n",
       "1  ÛÏIt felt like they were my friends and I was...         NaN        7471   \n",
       "2  i absolutely adore when louis starts the songs...         NaN        5617   \n",
       "3  Hi @JordanSpieth - Looking at the url - do you...         NaN        1693   \n",
       "4  Watching Neighbours on Sky+ catching up with t...         NaN       31462   \n",
       "5  Ive seen people on the train with lamps, chair...         NaN       20036   \n",
       "6  @BpackEngineer Thank you for your patience whi...         NaN       13354   \n",
       "7  Gala Bingo clubs bought for å£241m: The UK's l...         NaN      112117   \n",
       "8  @_Aphmau_ the pic defines all mcd fangirls/fan...         NaN         482   \n",
       "9  @Evielady just how lovely is the tree this yea...         NaN       26085   \n",
       "\n",
       "    tweet_created      tweet_id        tweet_location  \\\n",
       "0  10/26/15 12:40  6.587300e+17       main; @Kan1shk3   \n",
       "1  10/26/15 12:40  6.587300e+17                   NaN   \n",
       "2  10/26/15 12:40  6.587300e+17                clcncl   \n",
       "3  10/26/15 12:40  6.587300e+17         Palo Alto, CA   \n",
       "4  10/26/15 12:40  6.587300e+17                   NaN   \n",
       "5  10/26/15 12:40  6.587300e+17       New York Gritty   \n",
       "6  10/26/15 12:40  6.587300e+17             Worldwide   \n",
       "7  10/26/15 12:40  6.587300e+17                   NaN   \n",
       "8  10/26/15 12:40  6.587300e+17                   NaN   \n",
       "9  10/26/15 12:40  6.587300e+17  Nottingham, England.   \n",
       "\n",
       "                user_timezone  \n",
       "0                     Chennai  \n",
       "1  Eastern Time (US & Canada)  \n",
       "2                    Belgrade  \n",
       "3  Pacific Time (US & Canada)  \n",
       "4                         NaN  \n",
       "5  Central Time (US & Canada)  \n",
       "6  Eastern Time (US & Canada)  \n",
       "7                         NaN  \n",
       "8                         NaN  \n",
       "9                   Amsterdam  \n",
       "\n",
       "[10 rows x 26 columns]"
      ]
     },
     "execution_count": 2,
     "metadata": {},
     "output_type": "execute_result"
    }
   ],
   "source": [
    "import numpy as np \n",
    "df.head(10) ##or dataframe.tail(n) for the last rows of the dataset"
   ]
  },
  {
   "cell_type": "markdown",
   "metadata": {},
   "source": [
    "# Checking if there are missing values\n",
    "True means the number of values that are present\n",
    "\n",
    "False means the number of values that are missing"
   ]
  },
  {
   "cell_type": "code",
   "execution_count": 3,
   "metadata": {},
   "outputs": [
    {
     "name": "stdout",
     "output_type": "stream",
     "text": [
      "      _unit_id\n",
      "True     20050\n",
      "\n",
      "\n",
      "      _golden\n",
      "True    20050\n",
      "\n",
      "\n",
      "      _unit_state\n",
      "True        20050\n",
      "\n",
      "\n",
      "      _trusted_judgments\n",
      "True               20050\n",
      "\n",
      "\n",
      "       _last_judgment_at\n",
      "True               20000\n",
      "False                 50\n",
      "\n",
      "\n",
      "       gender\n",
      "True    19953\n",
      "False      97\n",
      "\n",
      "\n",
      "       gender:confidence\n",
      "True               20024\n",
      "False                 26\n",
      "\n",
      "\n",
      "      profile_yn\n",
      "True       20050\n",
      "\n",
      "\n",
      "      profile_yn:confidence\n",
      "True                  20050\n",
      "\n",
      "\n",
      "      created\n",
      "True    20050\n",
      "\n",
      "\n",
      "       description\n",
      "True         16306\n",
      "False         3744\n",
      "\n",
      "\n",
      "      fav_number\n",
      "True       20050\n",
      "\n",
      "\n",
      "       gender_gold\n",
      "False        20000\n",
      "True            50\n",
      "\n",
      "\n",
      "      link_color\n",
      "True       20050\n",
      "\n",
      "\n",
      "       name\n",
      "True  20050\n",
      "\n",
      "\n",
      "       profile_yn_gold\n",
      "False            20000\n",
      "True                50\n",
      "\n",
      "\n",
      "      profileimage\n",
      "True         20050\n",
      "\n",
      "\n",
      "      retweet_count\n",
      "True          20050\n",
      "\n",
      "\n",
      "      sidebar_color\n",
      "True          20050\n",
      "\n",
      "\n",
      "       text\n",
      "True  20050\n",
      "\n",
      "\n",
      "       tweet_coord\n",
      "False        19891\n",
      "True           159\n",
      "\n",
      "\n",
      "      tweet_count\n",
      "True        20050\n",
      "\n",
      "\n",
      "      tweet_created\n",
      "True          20050\n",
      "\n",
      "\n",
      "      tweet_id\n",
      "True     20050\n",
      "\n",
      "\n",
      "       tweet_location\n",
      "True            12566\n",
      "False            7484\n",
      "\n",
      "\n",
      "       user_timezone\n",
      "True           12252\n",
      "False           7798\n",
      "\n",
      "\n"
     ]
    }
   ],
   "source": [
    "for column in df.notnull().columns.values.tolist():\n",
    "    print (df.notnull()[column].value_counts().to_frame())\n",
    "    print(\"\\n\")  "
   ]
  },
  {
   "cell_type": "markdown",
   "metadata": {},
   "source": [
    "\n",
    "\n",
    "# Replacing missing values with most frequent value on that feature\n"
   ]
  },
  {
   "cell_type": "markdown",
   "metadata": {},
   "source": [
    "### The following are the identified features with missing values:\n",
    "* _last_judgment_at\n",
    "* gender\n",
    "* gender:confidence\n",
    "* description\n",
    "* gender_gold\n",
    "* profile_yn_gold\n",
    "* tweet_coord\n",
    "* tweet_location\n",
    "* user_timezone"
   ]
  },
  {
   "cell_type": "code",
   "execution_count": 4,
   "metadata": {},
   "outputs": [
    {
     "data": {
      "text/plain": [
       "female     6700\n",
       "male       6194\n",
       "brand      5942\n",
       "unknown    1117\n",
       "Name: gender, dtype: int64"
      ]
     },
     "execution_count": 4,
     "metadata": {},
     "output_type": "execute_result"
    }
   ],
   "source": [
    "df['gender'].value_counts()"
   ]
  },
  {
   "cell_type": "code",
   "execution_count": 5,
   "metadata": {},
   "outputs": [
    {
     "data": {
      "text/plain": [
       "female     6797\n",
       "male       6194\n",
       "brand      5942\n",
       "unknown    1117\n",
       "Name: gender, dtype: int64"
      ]
     },
     "execution_count": 5,
     "metadata": {},
     "output_type": "execute_result"
    }
   ],
   "source": [
    "#replacing missing gender value with most frequent gender\n",
    "df['gender'].replace(np.NaN, \"female\",inplace=True)\n",
    "df['gender'].value_counts()"
   ]
  },
  {
   "cell_type": "code",
   "execution_count": 6,
   "metadata": {},
   "outputs": [
    {
     "data": {
      "text/plain": [
       "female    7914\n",
       "male      6194\n",
       "brand     5942\n",
       "Name: gender, dtype: int64"
      ]
     },
     "execution_count": 6,
     "metadata": {},
     "output_type": "execute_result"
    }
   ],
   "source": [
    "#replacing unknown gender value with most frequent gender\n",
    "df['gender'].replace(\"unknown\", \"female\",inplace=True)\n",
    "df['gender'].value_counts()"
   ]
  },
  {
   "cell_type": "code",
   "execution_count": 7,
   "metadata": {},
   "outputs": [
    {
     "data": {
      "text/plain": [
       "1.0000    13926\n",
       "0.0000       71\n",
       "0.6691       31\n",
       "0.6709       30\n",
       "0.6591       30\n",
       "          ...  \n",
       "0.6379        1\n",
       "0.6322        1\n",
       "0.6911        1\n",
       "0.6971        1\n",
       "0.6873        1\n",
       "Name: gender:confidence, Length: 923, dtype: int64"
      ]
     },
     "execution_count": 7,
     "metadata": {},
     "output_type": "execute_result"
    }
   ],
   "source": [
    "df['gender:confidence'].value_counts()"
   ]
  },
  {
   "cell_type": "code",
   "execution_count": 8,
   "metadata": {},
   "outputs": [
    {
     "data": {
      "text/plain": [
       "1.0000    13952\n",
       "0.0000       71\n",
       "0.6691       31\n",
       "0.6709       30\n",
       "0.6591       30\n",
       "          ...  \n",
       "0.6379        1\n",
       "0.6322        1\n",
       "0.6911        1\n",
       "0.6971        1\n",
       "0.6873        1\n",
       "Name: gender:confidence, Length: 923, dtype: int64"
      ]
     },
     "execution_count": 8,
     "metadata": {},
     "output_type": "execute_result"
    }
   ],
   "source": [
    "#replacing missing gender:confidence value with most frequent gender:confidence\n",
    "df['gender:confidence'].replace(np.NaN, 1.0000,inplace=True)\n",
    "df['gender:confidence'].value_counts()"
   ]
  },
  {
   "cell_type": "code",
   "execution_count": 9,
   "metadata": {},
   "outputs": [
    {
     "data": {
      "text/plain": [
       "You can be spiritually empowered, financially secure, and improve your health all while doing so - our research proves it. Visit https://t.co/GrFOxFjwPV                33\n",
       "Subscribe to her Inspirational channel here http://t.co/P1y6f2Rzoj ~~~~~~~~~~~~~~\\nFor promoting on this page email, business_inquiry@outlook.com                       32\n",
       "secret little rendezvous                                                                                                                                                27\n",
       "The Map Game is a free geography quiz based on Google Maps. No flash, no need to register, just start finding places on a blind map!                                    24\n",
       "'Cos even an old girl's best friend is still her MUM!                                                                                                                   18\n",
       "                                                                                                                                                                        ..\n",
       "I teach and I do. Director, Digital Engagement for @boathouseinc and #MGMT6650 Instructor for @HarvardExt                                                                1\n",
       "Books. History. Retro kitsch. Pauline Garon/Flappers. Eduard Khil/Soviet pop. Working on my pastiche of Edwardian penny dreadful romance novels.                         1\n",
       "Two old skool, geeky bloggers sharing our love of stationery 'n' stuff. Tweets by @nickieohara & @geekisnewchic                                                          1\n",
       "Baton Rouge , LA | NouVeauRich Artist | #GMOL /Gang Music On Lock | Singer | Features or Booking Contact Me | SuJeepo |                                                  1\n",
       "ÛÏI'm not drunk, I'm just tired.Û ~Katie Baldwin #thelife #1994BECHEZZ #BELIEBERSWAG Rob_Schneider_is_my_spirit_animal #TeamJaysOn conner_backus_followed_9/15/14     1\n",
       "Name: description, Length: 15140, dtype: int64"
      ]
     },
     "execution_count": 9,
     "metadata": {},
     "output_type": "execute_result"
    }
   ],
   "source": [
    "df['description'].value_counts()"
   ]
  },
  {
   "cell_type": "code",
   "execution_count": 10,
   "metadata": {},
   "outputs": [
    {
     "data": {
      "text/plain": [
       "You can be spiritually empowered, financially secure, and improve your health all while doing so - our research proves it. Visit https://t.co/GrFOxFjwPV                3777\n",
       "Subscribe to her Inspirational channel here http://t.co/P1y6f2Rzoj ~~~~~~~~~~~~~~\\nFor promoting on this page email, business_inquiry@outlook.com                         32\n",
       "secret little rendezvous                                                                                                                                                  27\n",
       "The Map Game is a free geography quiz based on Google Maps. No flash, no need to register, just start finding places on a blind map!                                      24\n",
       "'Cos even an old girl's best friend is still her MUM!                                                                                                                     18\n",
       "                                                                                                                                                                        ... \n",
       "I teach and I do. Director, Digital Engagement for @boathouseinc and #MGMT6650 Instructor for @HarvardExt                                                                  1\n",
       "Books. History. Retro kitsch. Pauline Garon/Flappers. Eduard Khil/Soviet pop. Working on my pastiche of Edwardian penny dreadful romance novels.                           1\n",
       "Two old skool, geeky bloggers sharing our love of stationery 'n' stuff. Tweets by @nickieohara & @geekisnewchic                                                            1\n",
       "Baton Rouge , LA | NouVeauRich Artist | #GMOL /Gang Music On Lock | Singer | Features or Booking Contact Me | SuJeepo |                                                    1\n",
       "ÛÏI'm not drunk, I'm just tired.Û ~Katie Baldwin #thelife #1994BECHEZZ #BELIEBERSWAG Rob_Schneider_is_my_spirit_animal #TeamJaysOn conner_backus_followed_9/15/14       1\n",
       "Name: description, Length: 15140, dtype: int64"
      ]
     },
     "execution_count": 10,
     "metadata": {},
     "output_type": "execute_result"
    }
   ],
   "source": [
    "#replacing missing description value with most frequent description\n",
    "df['description'].replace(np.NaN, \"You can be spiritually empowered, financially secure, and improve your health all while doing so - our research proves it. Visit https://t.co/GrFOxFjwPV\",inplace=True)\n",
    "df['description'].value_counts()"
   ]
  },
  {
   "cell_type": "code",
   "execution_count": 11,
   "metadata": {},
   "outputs": [
    {
     "data": {
      "text/plain": [
       "male               19\n",
       "female             14\n",
       "brand              13\n",
       "unknown             2\n",
       "male\\nunknown       1\n",
       "female\\nunknown     1\n",
       "Name: gender_gold, dtype: int64"
      ]
     },
     "execution_count": 11,
     "metadata": {},
     "output_type": "execute_result"
    }
   ],
   "source": [
    "df['gender_gold'].value_counts()"
   ]
  },
  {
   "cell_type": "code",
   "execution_count": 12,
   "metadata": {},
   "outputs": [
    {
     "data": {
      "text/html": [
       "<div>\n",
       "<style scoped>\n",
       "    .dataframe tbody tr th:only-of-type {\n",
       "        vertical-align: middle;\n",
       "    }\n",
       "\n",
       "    .dataframe tbody tr th {\n",
       "        vertical-align: top;\n",
       "    }\n",
       "\n",
       "    .dataframe thead th {\n",
       "        text-align: right;\n",
       "    }\n",
       "</style>\n",
       "<table border=\"1\" class=\"dataframe\">\n",
       "  <thead>\n",
       "    <tr style=\"text-align: right;\">\n",
       "      <th></th>\n",
       "      <th>_unit_id</th>\n",
       "      <th>_golden</th>\n",
       "      <th>_unit_state</th>\n",
       "      <th>_trusted_judgments</th>\n",
       "      <th>_last_judgment_at</th>\n",
       "      <th>gender</th>\n",
       "      <th>gender:confidence</th>\n",
       "      <th>profile_yn</th>\n",
       "      <th>profile_yn:confidence</th>\n",
       "      <th>created</th>\n",
       "      <th>...</th>\n",
       "      <th>profileimage</th>\n",
       "      <th>retweet_count</th>\n",
       "      <th>sidebar_color</th>\n",
       "      <th>text</th>\n",
       "      <th>tweet_coord</th>\n",
       "      <th>tweet_count</th>\n",
       "      <th>tweet_created</th>\n",
       "      <th>tweet_id</th>\n",
       "      <th>tweet_location</th>\n",
       "      <th>user_timezone</th>\n",
       "    </tr>\n",
       "  </thead>\n",
       "  <tbody>\n",
       "    <tr>\n",
       "      <th>20024</th>\n",
       "      <td>815754614</td>\n",
       "      <td>True</td>\n",
       "      <td>golden</td>\n",
       "      <td>235</td>\n",
       "      <td>NaN</td>\n",
       "      <td>brand</td>\n",
       "      <td>0.5540</td>\n",
       "      <td>yes</td>\n",
       "      <td>1.0</td>\n",
       "      <td>3/24/09 20:52</td>\n",
       "      <td>...</td>\n",
       "      <td>https://pbs.twimg.com/profile_images/649004216...</td>\n",
       "      <td>0</td>\n",
       "      <td>0</td>\n",
       "      <td>The droids you're looking for... https://t.co/...</td>\n",
       "      <td>NaN</td>\n",
       "      <td>18857</td>\n",
       "      <td>10/26/15 12:39</td>\n",
       "      <td>6.587300e+17</td>\n",
       "      <td>New Zealand</td>\n",
       "      <td>Auckland</td>\n",
       "    </tr>\n",
       "    <tr>\n",
       "      <th>20042</th>\n",
       "      <td>815756642</td>\n",
       "      <td>True</td>\n",
       "      <td>golden</td>\n",
       "      <td>212</td>\n",
       "      <td>NaN</td>\n",
       "      <td>brand</td>\n",
       "      <td>0.6364</td>\n",
       "      <td>yes</td>\n",
       "      <td>1.0</td>\n",
       "      <td>6/8/14 19:07</td>\n",
       "      <td>...</td>\n",
       "      <td>https://pbs.twimg.com/profile_images/616770699...</td>\n",
       "      <td>0</td>\n",
       "      <td>948C75</td>\n",
       "      <td>Best Bloody Mary Brunch at the #NYCWFF @nyceff...</td>\n",
       "      <td>NaN</td>\n",
       "      <td>5900</td>\n",
       "      <td>10/26/15 12:40</td>\n",
       "      <td>6.587300e+17</td>\n",
       "      <td>Miami, FL</td>\n",
       "      <td>Eastern Time (US &amp; Canada)</td>\n",
       "    </tr>\n",
       "  </tbody>\n",
       "</table>\n",
       "<p>2 rows × 26 columns</p>\n",
       "</div>"
      ],
      "text/plain": [
       "        _unit_id  _golden _unit_state  _trusted_judgments _last_judgment_at  \\\n",
       "20024  815754614     True      golden                 235               NaN   \n",
       "20042  815756642     True      golden                 212               NaN   \n",
       "\n",
       "      gender  gender:confidence profile_yn  profile_yn:confidence  \\\n",
       "20024  brand             0.5540        yes                    1.0   \n",
       "20042  brand             0.6364        yes                    1.0   \n",
       "\n",
       "             created  ...                                       profileimage  \\\n",
       "20024  3/24/09 20:52  ...  https://pbs.twimg.com/profile_images/649004216...   \n",
       "20042   6/8/14 19:07  ...  https://pbs.twimg.com/profile_images/616770699...   \n",
       "\n",
       "       retweet_count sidebar_color  \\\n",
       "20024              0             0   \n",
       "20042              0        948C75   \n",
       "\n",
       "                                                    text tweet_coord  \\\n",
       "20024  The droids you're looking for... https://t.co/...         NaN   \n",
       "20042  Best Bloody Mary Brunch at the #NYCWFF @nyceff...         NaN   \n",
       "\n",
       "      tweet_count   tweet_created      tweet_id tweet_location  \\\n",
       "20024       18857  10/26/15 12:39  6.587300e+17    New Zealand   \n",
       "20042        5900  10/26/15 12:40  6.587300e+17      Miami, FL   \n",
       "\n",
       "                    user_timezone  \n",
       "20024                    Auckland  \n",
       "20042  Eastern Time (US & Canada)  \n",
       "\n",
       "[2 rows x 26 columns]"
      ]
     },
     "execution_count": 12,
     "metadata": {},
     "output_type": "execute_result"
    }
   ],
   "source": [
    "df.loc[(df[\"gender_gold\"] == \"unknown\")]"
   ]
  },
  {
   "cell_type": "code",
   "execution_count": 13,
   "metadata": {},
   "outputs": [
    {
     "data": {
      "text/plain": [
       "male               19\n",
       "brand              15\n",
       "female             14\n",
       "male\\nunknown       1\n",
       "female\\nunknown     1\n",
       "Name: gender_gold, dtype: int64"
      ]
     },
     "execution_count": 13,
     "metadata": {},
     "output_type": "execute_result"
    }
   ],
   "source": [
    "# correction of gender_role from \"unknown\" to \"brand\" since profile is golden and gender is brand\n",
    "df.loc[(df[\"gender_gold\"] == \"unknown\")]\n",
    "m = df[\"gender_gold\"] == \"unknown\"\n",
    "df.loc[m,'gender_gold'] = df.loc[m,'gender_gold'].astype(str).replace(r'unknown','brand',regex=True)\n",
    "df[\"gender_gold\"].value_counts()"
   ]
  },
  {
   "cell_type": "code",
   "execution_count": 14,
   "metadata": {},
   "outputs": [
    {
     "data": {
      "text/html": [
       "<div>\n",
       "<style scoped>\n",
       "    .dataframe tbody tr th:only-of-type {\n",
       "        vertical-align: middle;\n",
       "    }\n",
       "\n",
       "    .dataframe tbody tr th {\n",
       "        vertical-align: top;\n",
       "    }\n",
       "\n",
       "    .dataframe thead th {\n",
       "        text-align: right;\n",
       "    }\n",
       "</style>\n",
       "<table border=\"1\" class=\"dataframe\">\n",
       "  <thead>\n",
       "    <tr style=\"text-align: right;\">\n",
       "      <th></th>\n",
       "      <th>_unit_id</th>\n",
       "      <th>_golden</th>\n",
       "      <th>_unit_state</th>\n",
       "      <th>_trusted_judgments</th>\n",
       "      <th>_last_judgment_at</th>\n",
       "      <th>gender</th>\n",
       "      <th>gender:confidence</th>\n",
       "      <th>profile_yn</th>\n",
       "      <th>profile_yn:confidence</th>\n",
       "      <th>created</th>\n",
       "      <th>...</th>\n",
       "      <th>profileimage</th>\n",
       "      <th>retweet_count</th>\n",
       "      <th>sidebar_color</th>\n",
       "      <th>text</th>\n",
       "      <th>tweet_coord</th>\n",
       "      <th>tweet_count</th>\n",
       "      <th>tweet_created</th>\n",
       "      <th>tweet_id</th>\n",
       "      <th>tweet_location</th>\n",
       "      <th>user_timezone</th>\n",
       "    </tr>\n",
       "  </thead>\n",
       "  <tbody>\n",
       "    <tr>\n",
       "      <th>20016</th>\n",
       "      <td>815753740</td>\n",
       "      <td>True</td>\n",
       "      <td>golden</td>\n",
       "      <td>228</td>\n",
       "      <td>NaN</td>\n",
       "      <td>female</td>\n",
       "      <td>0.765</td>\n",
       "      <td>yes</td>\n",
       "      <td>1.0</td>\n",
       "      <td>8/27/11 19:14</td>\n",
       "      <td>...</td>\n",
       "      <td>https://pbs.twimg.com/profile_images/657782196...</td>\n",
       "      <td>0</td>\n",
       "      <td>0</td>\n",
       "      <td>@iJamCrazyy aka I miss hoopin and womping in t...</td>\n",
       "      <td>NaN</td>\n",
       "      <td>26769</td>\n",
       "      <td>10/26/15 12:40</td>\n",
       "      <td>6.587300e+17</td>\n",
       "      <td>camp blueberry @ EF</td>\n",
       "      <td>Quito</td>\n",
       "    </tr>\n",
       "  </tbody>\n",
       "</table>\n",
       "<p>1 rows × 26 columns</p>\n",
       "</div>"
      ],
      "text/plain": [
       "        _unit_id  _golden _unit_state  _trusted_judgments _last_judgment_at  \\\n",
       "20016  815753740     True      golden                 228               NaN   \n",
       "\n",
       "       gender  gender:confidence profile_yn  profile_yn:confidence  \\\n",
       "20016  female              0.765        yes                    1.0   \n",
       "\n",
       "             created  ...                                       profileimage  \\\n",
       "20016  8/27/11 19:14  ...  https://pbs.twimg.com/profile_images/657782196...   \n",
       "\n",
       "       retweet_count sidebar_color  \\\n",
       "20016              0             0   \n",
       "\n",
       "                                                    text tweet_coord  \\\n",
       "20016  @iJamCrazyy aka I miss hoopin and womping in t...         NaN   \n",
       "\n",
       "      tweet_count   tweet_created      tweet_id       tweet_location  \\\n",
       "20016       26769  10/26/15 12:40  6.587300e+17  camp blueberry @ EF   \n",
       "\n",
       "      user_timezone  \n",
       "20016         Quito  \n",
       "\n",
       "[1 rows x 26 columns]"
      ]
     },
     "execution_count": 14,
     "metadata": {},
     "output_type": "execute_result"
    }
   ],
   "source": [
    "df[(df[\"gender_gold\"] == \"female\\nunknown\")]"
   ]
  },
  {
   "cell_type": "code",
   "execution_count": 15,
   "metadata": {},
   "outputs": [
    {
     "data": {
      "text/plain": [
       "male             19\n",
       "brand            15\n",
       "female           15\n",
       "male\\nunknown     1\n",
       "Name: gender_gold, dtype: int64"
      ]
     },
     "execution_count": 15,
     "metadata": {},
     "output_type": "execute_result"
    }
   ],
   "source": [
    "# correction of gender_role from \"female\\nunknown\" to \"female\" since profile is golden and gender is female\n",
    "df.loc[(df[\"gender_gold\"] == \"female\\nunknown\")]\n",
    "m = df[\"gender_gold\"] == \"female\\nunknown\"\n",
    "df.loc[m,'gender_gold'] = df.loc[m,'gender_gold'].astype(str).replace(r'female\\nunknown','female',regex=True)\n",
    "df[\"gender_gold\"].value_counts()"
   ]
  },
  {
   "cell_type": "code",
   "execution_count": 16,
   "metadata": {},
   "outputs": [
    {
     "data": {
      "text/html": [
       "<div>\n",
       "<style scoped>\n",
       "    .dataframe tbody tr th:only-of-type {\n",
       "        vertical-align: middle;\n",
       "    }\n",
       "\n",
       "    .dataframe tbody tr th {\n",
       "        vertical-align: top;\n",
       "    }\n",
       "\n",
       "    .dataframe thead th {\n",
       "        text-align: right;\n",
       "    }\n",
       "</style>\n",
       "<table border=\"1\" class=\"dataframe\">\n",
       "  <thead>\n",
       "    <tr style=\"text-align: right;\">\n",
       "      <th></th>\n",
       "      <th>_unit_id</th>\n",
       "      <th>_golden</th>\n",
       "      <th>_unit_state</th>\n",
       "      <th>_trusted_judgments</th>\n",
       "      <th>_last_judgment_at</th>\n",
       "      <th>gender</th>\n",
       "      <th>gender:confidence</th>\n",
       "      <th>profile_yn</th>\n",
       "      <th>profile_yn:confidence</th>\n",
       "      <th>created</th>\n",
       "      <th>...</th>\n",
       "      <th>profileimage</th>\n",
       "      <th>retweet_count</th>\n",
       "      <th>sidebar_color</th>\n",
       "      <th>text</th>\n",
       "      <th>tweet_coord</th>\n",
       "      <th>tweet_count</th>\n",
       "      <th>tweet_created</th>\n",
       "      <th>tweet_id</th>\n",
       "      <th>tweet_location</th>\n",
       "      <th>user_timezone</th>\n",
       "    </tr>\n",
       "  </thead>\n",
       "  <tbody>\n",
       "    <tr>\n",
       "      <th>20023</th>\n",
       "      <td>815754554</td>\n",
       "      <td>True</td>\n",
       "      <td>golden</td>\n",
       "      <td>254</td>\n",
       "      <td>NaN</td>\n",
       "      <td>male</td>\n",
       "      <td>0.5762</td>\n",
       "      <td>yes</td>\n",
       "      <td>1.0</td>\n",
       "      <td>11/18/10 11:16</td>\n",
       "      <td>...</td>\n",
       "      <td>https://abs.twimg.com/sticky/default_profile_i...</td>\n",
       "      <td>0</td>\n",
       "      <td>C0DEED</td>\n",
       "      <td>George Bush and Dick Cheney need to vacation i...</td>\n",
       "      <td>NaN</td>\n",
       "      <td>5</td>\n",
       "      <td>10/26/15 12:40</td>\n",
       "      <td>6.587300e+17</td>\n",
       "      <td>NaN</td>\n",
       "      <td>NaN</td>\n",
       "    </tr>\n",
       "  </tbody>\n",
       "</table>\n",
       "<p>1 rows × 26 columns</p>\n",
       "</div>"
      ],
      "text/plain": [
       "        _unit_id  _golden _unit_state  _trusted_judgments _last_judgment_at  \\\n",
       "20023  815754554     True      golden                 254               NaN   \n",
       "\n",
       "      gender  gender:confidence profile_yn  profile_yn:confidence  \\\n",
       "20023   male             0.5762        yes                    1.0   \n",
       "\n",
       "              created  ...                                       profileimage  \\\n",
       "20023  11/18/10 11:16  ...  https://abs.twimg.com/sticky/default_profile_i...   \n",
       "\n",
       "       retweet_count sidebar_color  \\\n",
       "20023              0        C0DEED   \n",
       "\n",
       "                                                    text tweet_coord  \\\n",
       "20023  George Bush and Dick Cheney need to vacation i...         NaN   \n",
       "\n",
       "      tweet_count   tweet_created      tweet_id tweet_location user_timezone  \n",
       "20023           5  10/26/15 12:40  6.587300e+17            NaN           NaN  \n",
       "\n",
       "[1 rows x 26 columns]"
      ]
     },
     "execution_count": 16,
     "metadata": {},
     "output_type": "execute_result"
    }
   ],
   "source": [
    "df[(df[\"gender_gold\"] == \"male\\nunknown\")]"
   ]
  },
  {
   "cell_type": "code",
   "execution_count": 17,
   "metadata": {},
   "outputs": [
    {
     "data": {
      "text/plain": [
       "male      20\n",
       "brand     15\n",
       "female    15\n",
       "Name: gender_gold, dtype: int64"
      ]
     },
     "execution_count": 17,
     "metadata": {},
     "output_type": "execute_result"
    }
   ],
   "source": [
    "# correction of gender_role from \"male\\nunknown\" to \"male\" since profile is golden and gender is male\n",
    "df.loc[(df[\"gender_gold\"] == \"male\\nunknown\")]\n",
    "m = df[\"gender_gold\"] == \"male\\nunknown\"\n",
    "df.loc[m,'gender_gold'] = df.loc[m,'gender_gold'].astype(str).replace(r'male\\nunknown','male',regex=True)\n",
    "df[\"gender_gold\"].value_counts()"
   ]
  },
  {
   "cell_type": "code",
   "execution_count": 18,
   "metadata": {},
   "outputs": [
    {
     "data": {
      "text/plain": [
       "yes    50\n",
       "Name: profile_yn_gold, dtype: int64"
      ]
     },
     "execution_count": 18,
     "metadata": {},
     "output_type": "execute_result"
    }
   ],
   "source": [
    "df['profile_yn_gold'].value_counts()"
   ]
  },
  {
   "cell_type": "code",
   "execution_count": 19,
   "metadata": {},
   "outputs": [
    {
     "data": {
      "text/plain": [
       "no     20000\n",
       "yes       50\n",
       "Name: profile_yn_gold, dtype: int64"
      ]
     },
     "execution_count": 19,
     "metadata": {},
     "output_type": "execute_result"
    }
   ],
   "source": [
    "#replacing \"Nan\" with \"no\" for profile that are not golden\n",
    "df['profile_yn_gold'].replace(np.NaN, \"no\",inplace=True)\n",
    "df['profile_yn_gold'].value_counts()"
   ]
  },
  {
   "cell_type": "code",
   "execution_count": 20,
   "metadata": {},
   "outputs": [
    {
     "data": {
      "text/plain": [
       "London               152\n",
       "United States        142\n",
       "USA                   94\n",
       "UK                    92\n",
       "Los Angeles, CA       69\n",
       "                    ... \n",
       "221C Baker Street      1\n",
       "Barstow                1\n",
       "on fire                1\n",
       "Ragin cajun            1\n",
       "the haven              1\n",
       "Name: tweet_location, Length: 7864, dtype: int64"
      ]
     },
     "execution_count": 20,
     "metadata": {},
     "output_type": "execute_result"
    }
   ],
   "source": [
    "df['tweet_location'].value_counts()"
   ]
  },
  {
   "cell_type": "code",
   "execution_count": 21,
   "metadata": {},
   "outputs": [
    {
     "data": {
      "text/plain": [
       "London               7636\n",
       "United States         142\n",
       "USA                    94\n",
       "UK                     92\n",
       "Los Angeles, CA        69\n",
       "                     ... \n",
       "221C Baker Street       1\n",
       "Barstow                 1\n",
       "on fire                 1\n",
       "Ragin cajun             1\n",
       "the haven               1\n",
       "Name: tweet_location, Length: 7864, dtype: int64"
      ]
     },
     "execution_count": 21,
     "metadata": {},
     "output_type": "execute_result"
    }
   ],
   "source": [
    "#replacing missing tweet_location value with most frequent tweet_location\n",
    "df['tweet_location'].replace(np.NaN, \"London\",inplace=True)\n",
    "df['tweet_location'].value_counts()"
   ]
  },
  {
   "cell_type": "code",
   "execution_count": 22,
   "metadata": {},
   "outputs": [
    {
     "data": {
      "text/plain": [
       "Eastern Time (US & Canada)        2496\n",
       "Pacific Time (US & Canada)        2106\n",
       "Central Time (US & Canada)        1505\n",
       "London                            1307\n",
       "Atlantic Time (Canada)             589\n",
       "                                  ... \n",
       "IST                                  1\n",
       "Australia/Brisbane                   1\n",
       "America/Argentina/Buenos_Aires       1\n",
       "GMT+3                                1\n",
       "America/Boise                        1\n",
       "Name: user_timezone, Length: 156, dtype: int64"
      ]
     },
     "execution_count": 22,
     "metadata": {},
     "output_type": "execute_result"
    }
   ],
   "source": [
    "df['user_timezone'].value_counts()"
   ]
  },
  {
   "cell_type": "code",
   "execution_count": 23,
   "metadata": {},
   "outputs": [
    {
     "data": {
      "text/plain": [
       "Eastern Time (US & Canada)        10294\n",
       "Pacific Time (US & Canada)         2106\n",
       "Central Time (US & Canada)         1505\n",
       "London                             1307\n",
       "Atlantic Time (Canada)              589\n",
       "                                  ...  \n",
       "IST                                   1\n",
       "Australia/Brisbane                    1\n",
       "America/Argentina/Buenos_Aires        1\n",
       "GMT+3                                 1\n",
       "America/Boise                         1\n",
       "Name: user_timezone, Length: 156, dtype: int64"
      ]
     },
     "execution_count": 23,
     "metadata": {},
     "output_type": "execute_result"
    }
   ],
   "source": [
    "#replacing missing user_timezone value with most frequent user_timezone\n",
    "df['user_timezone'].replace(np.NaN, \"Eastern Time (US & Canada)\",inplace=True)\n",
    "df['user_timezone'].value_counts()"
   ]
  },
  {
   "cell_type": "code",
   "execution_count": 24,
   "metadata": {},
   "outputs": [
    {
     "data": {
      "text/plain": [
       "[51.1133, -0.182914]            2\n",
       "[30.764, 20.2236]               2\n",
       "[18.5204, 73.8567]              2\n",
       "[25.2803, 51.5225]              2\n",
       "[33.46889822, -112.09379298]    2\n",
       "                               ..\n",
       "[-25.61299, 27.21107]           1\n",
       "[53.3777525, -1.53192167]       1\n",
       "[39.93997834, -75.16645509]     1\n",
       "[43.0343437, -88.0074921]       1\n",
       "[-20.25556582, 57.46272175]     1\n",
       "Name: tweet_coord, Length: 146, dtype: int64"
      ]
     },
     "execution_count": 24,
     "metadata": {},
     "output_type": "execute_result"
    }
   ],
   "source": [
    "df['tweet_coord'].value_counts()"
   ]
  },
  {
   "cell_type": "code",
   "execution_count": 25,
   "metadata": {},
   "outputs": [
    {
     "data": {
      "text/plain": [
       "[40.798598, -73.971836]         19893\n",
       "[30.764, 20.2236]                   2\n",
       "[18.5204, 73.8567]                  2\n",
       "[25.2803, 51.5225]                  2\n",
       "[33.46889822, -112.09379298]        2\n",
       "                                ...  \n",
       "[-25.61299, 27.21107]               1\n",
       "[53.3777525, -1.53192167]           1\n",
       "[39.93997834, -75.16645509]         1\n",
       "[43.0343437, -88.0074921]           1\n",
       "[-20.25556582, 57.46272175]         1\n",
       "Name: tweet_coord, Length: 146, dtype: int64"
      ]
     },
     "execution_count": 25,
     "metadata": {},
     "output_type": "execute_result"
    }
   ],
   "source": [
    "#replacing missing tweet_coord value with most frequent tweet_coord\n",
    "df['tweet_coord'].replace(np.NaN, \"[40.798598, -73.971836]\",inplace=True)\n",
    "df['tweet_coord'].value_counts()"
   ]
  },
  {
   "cell_type": "code",
   "execution_count": 26,
   "metadata": {},
   "outputs": [
    {
     "data": {
      "text/plain": [
       "10/26/15 23:05    217\n",
       "10/26/15 23:07    205\n",
       "10/26/15 23:31    182\n",
       "10/26/15 23:57    181\n",
       "10/26/15 23:04    169\n",
       "                 ... \n",
       "10/27/15 2:38       2\n",
       "10/27/15 2:21       1\n",
       "10/27/15 2:18       1\n",
       "10/27/15 2:17       1\n",
       "10/27/15 2:48       1\n",
       "Name: _last_judgment_at, Length: 283, dtype: int64"
      ]
     },
     "execution_count": 26,
     "metadata": {},
     "output_type": "execute_result"
    }
   ],
   "source": [
    "df['_last_judgment_at'].value_counts()"
   ]
  },
  {
   "cell_type": "code",
   "execution_count": 27,
   "metadata": {},
   "outputs": [
    {
     "data": {
      "text/plain": [
       "10/26/15 23:05    267\n",
       "10/26/15 23:07    205\n",
       "10/26/15 23:31    182\n",
       "10/26/15 23:57    181\n",
       "10/26/15 23:04    169\n",
       "                 ... \n",
       "10/27/15 2:38       2\n",
       "10/27/15 2:21       1\n",
       "10/27/15 2:18       1\n",
       "10/27/15 2:17       1\n",
       "10/27/15 2:48       1\n",
       "Name: _last_judgment_at, Length: 283, dtype: int64"
      ]
     },
     "execution_count": 27,
     "metadata": {},
     "output_type": "execute_result"
    }
   ],
   "source": [
    "#replacing missing _last_judgment_at value with most frequent _last_judgment_at\n",
    "df['_last_judgment_at'].replace(np.NaN, \"10/26/15 23:05\",inplace=True)\n",
    "df['_last_judgment_at'].value_counts()"
   ]
  },
  {
   "cell_type": "code",
   "execution_count": 28,
   "metadata": {},
   "outputs": [
    {
     "data": {
      "text/plain": [
       "male      20\n",
       "brand     15\n",
       "female    15\n",
       "Name: gender_gold, dtype: int64"
      ]
     },
     "execution_count": 28,
     "metadata": {},
     "output_type": "execute_result"
    }
   ],
   "source": [
    "df['gender_gold'].value_counts()"
   ]
  },
  {
   "cell_type": "code",
   "execution_count": 29,
   "metadata": {},
   "outputs": [
    {
     "data": {
      "text/plain": [
       "10/26/15 23:05    20000\n",
       "male                 20\n",
       "brand                15\n",
       "female               15\n",
       "Name: gender_gold, dtype: int64"
      ]
     },
     "execution_count": 29,
     "metadata": {},
     "output_type": "execute_result"
    }
   ],
   "source": [
    "#replacing missing gender_gold value with most frequent gender_gold\n",
    "df['gender_gold'].replace(np.NaN, \"10/26/15 23:05\",inplace=True)\n",
    "df['gender_gold'].value_counts()"
   ]
  },
  {
   "cell_type": "code",
   "execution_count": 30,
   "metadata": {},
   "outputs": [
    {
     "name": "stdout",
     "output_type": "stream",
     "text": [
      "      _unit_id\n",
      "True     20050\n",
      "\n",
      "\n",
      "      _golden\n",
      "True    20050\n",
      "\n",
      "\n",
      "      _unit_state\n",
      "True        20050\n",
      "\n",
      "\n",
      "      _trusted_judgments\n",
      "True               20050\n",
      "\n",
      "\n",
      "      _last_judgment_at\n",
      "True              20050\n",
      "\n",
      "\n",
      "      gender\n",
      "True   20050\n",
      "\n",
      "\n",
      "      gender:confidence\n",
      "True              20050\n",
      "\n",
      "\n",
      "      profile_yn\n",
      "True       20050\n",
      "\n",
      "\n",
      "      profile_yn:confidence\n",
      "True                  20050\n",
      "\n",
      "\n",
      "      created\n",
      "True    20050\n",
      "\n",
      "\n",
      "      description\n",
      "True        20050\n",
      "\n",
      "\n",
      "      fav_number\n",
      "True       20050\n",
      "\n",
      "\n",
      "      gender_gold\n",
      "True        20050\n",
      "\n",
      "\n",
      "      link_color\n",
      "True       20050\n",
      "\n",
      "\n",
      "       name\n",
      "True  20050\n",
      "\n",
      "\n",
      "      profile_yn_gold\n",
      "True            20050\n",
      "\n",
      "\n",
      "      profileimage\n",
      "True         20050\n",
      "\n",
      "\n",
      "      retweet_count\n",
      "True          20050\n",
      "\n",
      "\n",
      "      sidebar_color\n",
      "True          20050\n",
      "\n",
      "\n",
      "       text\n",
      "True  20050\n",
      "\n",
      "\n",
      "      tweet_coord\n",
      "True        20050\n",
      "\n",
      "\n",
      "      tweet_count\n",
      "True        20050\n",
      "\n",
      "\n",
      "      tweet_created\n",
      "True          20050\n",
      "\n",
      "\n",
      "      tweet_id\n",
      "True     20050\n",
      "\n",
      "\n",
      "      tweet_location\n",
      "True           20050\n",
      "\n",
      "\n",
      "      user_timezone\n",
      "True          20050\n",
      "\n",
      "\n"
     ]
    }
   ],
   "source": [
    "for column in df.notnull().columns.values.tolist():\n",
    "    print (df.notnull()[column].value_counts().to_frame())\n",
    "    print(\"\\n\")  "
   ]
  },
  {
   "cell_type": "markdown",
   "metadata": {},
   "source": [
    "The only features with missing values now are **_last_judgment_at** and **gender_gold**"
   ]
  },
  {
   "cell_type": "markdown",
   "metadata": {},
   "source": [
    "# Changing continues values to discrete categorical values\n",
    "### The following are the identified features  with continues values: \n",
    "* gender:confidence\n",
    "* profile_yn:confidence\n",
    "* fav_number\n",
    "* tweet_count"
   ]
  },
  {
   "cell_type": "markdown",
   "metadata": {},
   "source": [
    "###### 1. Making gender:confidence discrete"
   ]
  },
  {
   "cell_type": "code",
   "execution_count": 31,
   "metadata": {},
   "outputs": [
    {
     "data": {
      "text/html": [
       "<div>\n",
       "<style scoped>\n",
       "    .dataframe tbody tr th:only-of-type {\n",
       "        vertical-align: middle;\n",
       "    }\n",
       "\n",
       "    .dataframe tbody tr th {\n",
       "        vertical-align: top;\n",
       "    }\n",
       "\n",
       "    .dataframe thead th {\n",
       "        text-align: right;\n",
       "    }\n",
       "</style>\n",
       "<table border=\"1\" class=\"dataframe\">\n",
       "  <thead>\n",
       "    <tr style=\"text-align: right;\">\n",
       "      <th></th>\n",
       "      <th>gender:confidence</th>\n",
       "    </tr>\n",
       "  </thead>\n",
       "  <tbody>\n",
       "    <tr>\n",
       "      <th>0</th>\n",
       "      <td>1.0000</td>\n",
       "    </tr>\n",
       "    <tr>\n",
       "      <th>1</th>\n",
       "      <td>1.0000</td>\n",
       "    </tr>\n",
       "    <tr>\n",
       "      <th>2</th>\n",
       "      <td>0.6625</td>\n",
       "    </tr>\n",
       "    <tr>\n",
       "      <th>3</th>\n",
       "      <td>1.0000</td>\n",
       "    </tr>\n",
       "    <tr>\n",
       "      <th>4</th>\n",
       "      <td>1.0000</td>\n",
       "    </tr>\n",
       "    <tr>\n",
       "      <th>...</th>\n",
       "      <td>...</td>\n",
       "    </tr>\n",
       "    <tr>\n",
       "      <th>20045</th>\n",
       "      <td>1.0000</td>\n",
       "    </tr>\n",
       "    <tr>\n",
       "      <th>20046</th>\n",
       "      <td>1.0000</td>\n",
       "    </tr>\n",
       "    <tr>\n",
       "      <th>20047</th>\n",
       "      <td>1.0000</td>\n",
       "    </tr>\n",
       "    <tr>\n",
       "      <th>20048</th>\n",
       "      <td>0.8489</td>\n",
       "    </tr>\n",
       "    <tr>\n",
       "      <th>20049</th>\n",
       "      <td>1.0000</td>\n",
       "    </tr>\n",
       "  </tbody>\n",
       "</table>\n",
       "<p>20050 rows × 1 columns</p>\n",
       "</div>"
      ],
      "text/plain": [
       "       gender:confidence\n",
       "0                 1.0000\n",
       "1                 1.0000\n",
       "2                 0.6625\n",
       "3                 1.0000\n",
       "4                 1.0000\n",
       "...                  ...\n",
       "20045             1.0000\n",
       "20046             1.0000\n",
       "20047             1.0000\n",
       "20048             0.8489\n",
       "20049             1.0000\n",
       "\n",
       "[20050 rows x 1 columns]"
      ]
     },
     "execution_count": 31,
     "metadata": {},
     "output_type": "execute_result"
    }
   ],
   "source": [
    "df[['gender:confidence']]"
   ]
  },
  {
   "cell_type": "code",
   "execution_count": 32,
   "metadata": {},
   "outputs": [
    {
     "data": {
      "text/plain": [
       "1.0000    13952\n",
       "0.0000       71\n",
       "0.6691       31\n",
       "0.6709       30\n",
       "0.6591       30\n",
       "          ...  \n",
       "0.6379        1\n",
       "0.6322        1\n",
       "0.6911        1\n",
       "0.6971        1\n",
       "0.6873        1\n",
       "Name: gender:confidence, Length: 923, dtype: int64"
      ]
     },
     "execution_count": 32,
     "metadata": {},
     "output_type": "execute_result"
    }
   ],
   "source": [
    "df['gender:confidence'].value_counts()"
   ]
  },
  {
   "cell_type": "code",
   "execution_count": 33,
   "metadata": {},
   "outputs": [
    {
     "data": {
      "text/plain": [
       "Text(0.5, 1.0, 'discrete gender:confidence')"
      ]
     },
     "execution_count": 33,
     "metadata": {},
     "output_type": "execute_result"
    },
    {
     "data": {
      "image/png": "[encoded data removed]",
      "text/plain": [
       "<Figure size 720x360 with 1 Axes>"
      ]
     },
     "metadata": {
      "needs_background": "light"
     },
     "output_type": "display_data"
    }
   ],
   "source": [
    "%matplotlib inline\n",
    "import matplotlib as plt\n",
    "from matplotlib import pyplot\n",
    "\n",
    "df['gender:confidence'].plot(kind='hist', figsize=(10, 5))\n",
    "plt.pyplot.xlabel(\"gender:confidence\")\n",
    "plt.pyplot.ylabel(\"count\")\n",
    "plt.pyplot.title(\"discrete gender:confidence\")"
   ]
  },
  {
   "cell_type": "code",
   "execution_count": 34,
   "metadata": {},
   "outputs": [
    {
     "data": {
      "text/plain": [
       "array([0.        , 0.11111111, 0.22222222, 0.33333333, 0.44444444,\n",
       "       0.55555556, 0.66666667, 0.77777778, 0.88888889, 1.        ])"
      ]
     },
     "execution_count": 34,
     "metadata": {},
     "output_type": "execute_result"
    }
   ],
   "source": [
    "discrete_gender_confidence = np.linspace(min(df[\"gender:confidence\"]), max(df[\"gender:confidence\"]), 10)\n",
    "discrete_gender_confidence"
   ]
  },
  {
   "cell_type": "code",
   "execution_count": 35,
   "metadata": {},
   "outputs": [],
   "source": [
    "gender_confidence_levels = ['gender:confidence_1','gender:confidence_2','gender:confidence_3','gender:confidence_4','gender:confidence_5','gender:confidence_6','gender:confidence_7','gender:confidence_8','gender:confidence_9']"
   ]
  },
  {
   "cell_type": "code",
   "execution_count": 36,
   "metadata": {},
   "outputs": [],
   "source": [
    "df['discrete-gender:confidence'] = pd.cut(df['gender:confidence'], discrete_gender_confidence, labels=gender_confidence_levels, include_lowest=True)"
   ]
  },
  {
   "cell_type": "code",
   "execution_count": 37,
   "metadata": {},
   "outputs": [
    {
     "data": {
      "text/html": [
       "<div>\n",
       "<style scoped>\n",
       "    .dataframe tbody tr th:only-of-type {\n",
       "        vertical-align: middle;\n",
       "    }\n",
       "\n",
       "    .dataframe tbody tr th {\n",
       "        vertical-align: top;\n",
       "    }\n",
       "\n",
       "    .dataframe thead th {\n",
       "        text-align: right;\n",
       "    }\n",
       "</style>\n",
       "<table border=\"1\" class=\"dataframe\">\n",
       "  <thead>\n",
       "    <tr style=\"text-align: right;\">\n",
       "      <th></th>\n",
       "      <th>gender:confidence</th>\n",
       "      <th>discrete-gender:confidence</th>\n",
       "    </tr>\n",
       "  </thead>\n",
       "  <tbody>\n",
       "    <tr>\n",
       "      <th>0</th>\n",
       "      <td>1.0000</td>\n",
       "      <td>gender:confidence_9</td>\n",
       "    </tr>\n",
       "    <tr>\n",
       "      <th>1</th>\n",
       "      <td>1.0000</td>\n",
       "      <td>gender:confidence_9</td>\n",
       "    </tr>\n",
       "    <tr>\n",
       "      <th>2</th>\n",
       "      <td>0.6625</td>\n",
       "      <td>gender:confidence_6</td>\n",
       "    </tr>\n",
       "    <tr>\n",
       "      <th>3</th>\n",
       "      <td>1.0000</td>\n",
       "      <td>gender:confidence_9</td>\n",
       "    </tr>\n",
       "    <tr>\n",
       "      <th>4</th>\n",
       "      <td>1.0000</td>\n",
       "      <td>gender:confidence_9</td>\n",
       "    </tr>\n",
       "    <tr>\n",
       "      <th>5</th>\n",
       "      <td>1.0000</td>\n",
       "      <td>gender:confidence_9</td>\n",
       "    </tr>\n",
       "    <tr>\n",
       "      <th>6</th>\n",
       "      <td>1.0000</td>\n",
       "      <td>gender:confidence_9</td>\n",
       "    </tr>\n",
       "    <tr>\n",
       "      <th>7</th>\n",
       "      <td>1.0000</td>\n",
       "      <td>gender:confidence_9</td>\n",
       "    </tr>\n",
       "    <tr>\n",
       "      <th>8</th>\n",
       "      <td>1.0000</td>\n",
       "      <td>gender:confidence_9</td>\n",
       "    </tr>\n",
       "    <tr>\n",
       "      <th>9</th>\n",
       "      <td>1.0000</td>\n",
       "      <td>gender:confidence_9</td>\n",
       "    </tr>\n",
       "    <tr>\n",
       "      <th>10</th>\n",
       "      <td>0.7002</td>\n",
       "      <td>gender:confidence_7</td>\n",
       "    </tr>\n",
       "    <tr>\n",
       "      <th>11</th>\n",
       "      <td>1.0000</td>\n",
       "      <td>gender:confidence_9</td>\n",
       "    </tr>\n",
       "    <tr>\n",
       "      <th>12</th>\n",
       "      <td>0.6509</td>\n",
       "      <td>gender:confidence_6</td>\n",
       "    </tr>\n",
       "    <tr>\n",
       "      <th>13</th>\n",
       "      <td>1.0000</td>\n",
       "      <td>gender:confidence_9</td>\n",
       "    </tr>\n",
       "    <tr>\n",
       "      <th>14</th>\n",
       "      <td>0.6501</td>\n",
       "      <td>gender:confidence_6</td>\n",
       "    </tr>\n",
       "    <tr>\n",
       "      <th>15</th>\n",
       "      <td>1.0000</td>\n",
       "      <td>gender:confidence_9</td>\n",
       "    </tr>\n",
       "    <tr>\n",
       "      <th>16</th>\n",
       "      <td>1.0000</td>\n",
       "      <td>gender:confidence_9</td>\n",
       "    </tr>\n",
       "    <tr>\n",
       "      <th>17</th>\n",
       "      <td>1.0000</td>\n",
       "      <td>gender:confidence_9</td>\n",
       "    </tr>\n",
       "    <tr>\n",
       "      <th>18</th>\n",
       "      <td>1.0000</td>\n",
       "      <td>gender:confidence_9</td>\n",
       "    </tr>\n",
       "    <tr>\n",
       "      <th>19</th>\n",
       "      <td>0.3527</td>\n",
       "      <td>gender:confidence_4</td>\n",
       "    </tr>\n",
       "  </tbody>\n",
       "</table>\n",
       "</div>"
      ],
      "text/plain": [
       "    gender:confidence discrete-gender:confidence\n",
       "0              1.0000        gender:confidence_9\n",
       "1              1.0000        gender:confidence_9\n",
       "2              0.6625        gender:confidence_6\n",
       "3              1.0000        gender:confidence_9\n",
       "4              1.0000        gender:confidence_9\n",
       "5              1.0000        gender:confidence_9\n",
       "6              1.0000        gender:confidence_9\n",
       "7              1.0000        gender:confidence_9\n",
       "8              1.0000        gender:confidence_9\n",
       "9              1.0000        gender:confidence_9\n",
       "10             0.7002        gender:confidence_7\n",
       "11             1.0000        gender:confidence_9\n",
       "12             0.6509        gender:confidence_6\n",
       "13             1.0000        gender:confidence_9\n",
       "14             0.6501        gender:confidence_6\n",
       "15             1.0000        gender:confidence_9\n",
       "16             1.0000        gender:confidence_9\n",
       "17             1.0000        gender:confidence_9\n",
       "18             1.0000        gender:confidence_9\n",
       "19             0.3527        gender:confidence_4"
      ]
     },
     "execution_count": 37,
     "metadata": {},
     "output_type": "execute_result"
    }
   ],
   "source": [
    "df[['gender:confidence','discrete-gender:confidence']].head(20)"
   ]
  },
  {
   "cell_type": "code",
   "execution_count": 38,
   "metadata": {},
   "outputs": [
    {
     "data": {
      "text/plain": [
       "1.0000    13952\n",
       "0.0000       71\n",
       "0.6691       31\n",
       "0.6709       30\n",
       "0.6591       30\n",
       "          ...  \n",
       "0.6379        1\n",
       "0.6322        1\n",
       "0.6911        1\n",
       "0.6971        1\n",
       "0.6873        1\n",
       "Name: gender:confidence, Length: 923, dtype: int64"
      ]
     },
     "execution_count": 38,
     "metadata": {},
     "output_type": "execute_result"
    }
   ],
   "source": [
    "df['gender:confidence'].value_counts()"
   ]
  },
  {
   "cell_type": "code",
   "execution_count": 39,
   "metadata": {},
   "outputs": [
    {
     "data": {
      "text/plain": [
       "gender:confidence_9    13958\n",
       "gender:confidence_7     2775\n",
       "gender:confidence_6     2382\n",
       "gender:confidence_4      832\n",
       "gender:confidence_1       71\n",
       "gender:confidence_3       24\n",
       "gender:confidence_8        7\n",
       "gender:confidence_5        1\n",
       "gender:confidence_2        0\n",
       "Name: discrete-gender:confidence, dtype: int64"
      ]
     },
     "execution_count": 39,
     "metadata": {},
     "output_type": "execute_result"
    }
   ],
   "source": [
    "#As you see above we changed from 923 continues values to 9 discrete values below \n",
    "df['discrete-gender:confidence'].value_counts()"
   ]
  },
  {
   "cell_type": "markdown",
   "metadata": {},
   "source": [
    "###### 2. Making profile_yn:confidence discrete"
   ]
  },
  {
   "cell_type": "code",
   "execution_count": 40,
   "metadata": {},
   "outputs": [
    {
     "data": {
      "text/html": [
       "<div>\n",
       "<style scoped>\n",
       "    .dataframe tbody tr th:only-of-type {\n",
       "        vertical-align: middle;\n",
       "    }\n",
       "\n",
       "    .dataframe tbody tr th {\n",
       "        vertical-align: top;\n",
       "    }\n",
       "\n",
       "    .dataframe thead th {\n",
       "        text-align: right;\n",
       "    }\n",
       "</style>\n",
       "<table border=\"1\" class=\"dataframe\">\n",
       "  <thead>\n",
       "    <tr style=\"text-align: right;\">\n",
       "      <th></th>\n",
       "      <th>profile_yn:confidence</th>\n",
       "    </tr>\n",
       "  </thead>\n",
       "  <tbody>\n",
       "    <tr>\n",
       "      <th>0</th>\n",
       "      <td>1.0</td>\n",
       "    </tr>\n",
       "    <tr>\n",
       "      <th>1</th>\n",
       "      <td>1.0</td>\n",
       "    </tr>\n",
       "    <tr>\n",
       "      <th>2</th>\n",
       "      <td>1.0</td>\n",
       "    </tr>\n",
       "    <tr>\n",
       "      <th>3</th>\n",
       "      <td>1.0</td>\n",
       "    </tr>\n",
       "    <tr>\n",
       "      <th>4</th>\n",
       "      <td>1.0</td>\n",
       "    </tr>\n",
       "    <tr>\n",
       "      <th>...</th>\n",
       "      <td>...</td>\n",
       "    </tr>\n",
       "    <tr>\n",
       "      <th>20045</th>\n",
       "      <td>1.0</td>\n",
       "    </tr>\n",
       "    <tr>\n",
       "      <th>20046</th>\n",
       "      <td>1.0</td>\n",
       "    </tr>\n",
       "    <tr>\n",
       "      <th>20047</th>\n",
       "      <td>1.0</td>\n",
       "    </tr>\n",
       "    <tr>\n",
       "      <th>20048</th>\n",
       "      <td>1.0</td>\n",
       "    </tr>\n",
       "    <tr>\n",
       "      <th>20049</th>\n",
       "      <td>1.0</td>\n",
       "    </tr>\n",
       "  </tbody>\n",
       "</table>\n",
       "<p>20050 rows × 1 columns</p>\n",
       "</div>"
      ],
      "text/plain": [
       "       profile_yn:confidence\n",
       "0                        1.0\n",
       "1                        1.0\n",
       "2                        1.0\n",
       "3                        1.0\n",
       "4                        1.0\n",
       "...                      ...\n",
       "20045                    1.0\n",
       "20046                    1.0\n",
       "20047                    1.0\n",
       "20048                    1.0\n",
       "20049                    1.0\n",
       "\n",
       "[20050 rows x 1 columns]"
      ]
     },
     "execution_count": 40,
     "metadata": {},
     "output_type": "execute_result"
    }
   ],
   "source": [
    "df[['profile_yn:confidence']]"
   ]
  },
  {
   "cell_type": "code",
   "execution_count": 41,
   "metadata": {},
   "outputs": [
    {
     "data": {
      "text/plain": [
       "1.0000    19642\n",
       "0.6649        6\n",
       "0.6557        6\n",
       "0.6671        4\n",
       "0.6436        4\n",
       "          ...  \n",
       "0.6567        1\n",
       "0.6516        1\n",
       "0.6816        1\n",
       "0.6506        1\n",
       "0.6913        1\n",
       "Name: profile_yn:confidence, Length: 267, dtype: int64"
      ]
     },
     "execution_count": 41,
     "metadata": {},
     "output_type": "execute_result"
    }
   ],
   "source": [
    "df['profile_yn:confidence'].value_counts()"
   ]
  },
  {
   "cell_type": "code",
   "execution_count": 42,
   "metadata": {},
   "outputs": [
    {
     "data": {
      "text/plain": [
       "Text(0.5, 1.0, 'discrete profile_yn:confidence')"
      ]
     },
     "execution_count": 42,
     "metadata": {},
     "output_type": "execute_result"
    },
    {
     "data": {
      "image/png": "[encoded data removed]",
      "text/plain": [
       "<Figure size 720x360 with 1 Axes>"
      ]
     },
     "metadata": {
      "needs_background": "light"
     },
     "output_type": "display_data"
    }
   ],
   "source": [
    "df['profile_yn:confidence'].plot(kind='hist', figsize=(10, 5))\n",
    "plt.pyplot.xlabel(\"profile_yn:confidence\")\n",
    "plt.pyplot.ylabel(\"count\")\n",
    "plt.pyplot.title(\"discrete profile_yn:confidence\")"
   ]
  },
  {
   "cell_type": "code",
   "execution_count": 43,
   "metadata": {},
   "outputs": [
    {
     "data": {
      "text/plain": [
       "array([0.6272    , 0.66862222, 0.71004444, 0.75146667, 0.79288889,\n",
       "       0.83431111, 0.87573333, 0.91715556, 0.95857778, 1.        ])"
      ]
     },
     "execution_count": 43,
     "metadata": {},
     "output_type": "execute_result"
    }
   ],
   "source": [
    "discrete_profile_yn_confidence = np.linspace(min(df[\"profile_yn:confidence\"]), max(df[\"profile_yn:confidence\"]), 10)\n",
    "discrete_profile_yn_confidence"
   ]
  },
  {
   "cell_type": "code",
   "execution_count": 44,
   "metadata": {},
   "outputs": [],
   "source": [
    "profile_yn_confidence_levels = ['profile_yn_confidence_1','profile_yn_confidence_2','profile_yn_confidence_3','profile_yn_confidence_4','profile_yn_confidence_5','profile_yn_confidence_6','profile_yn_confidence_7','profile_yn_confidence_8','profile_yn_confidence_9']"
   ]
  },
  {
   "cell_type": "code",
   "execution_count": 45,
   "metadata": {},
   "outputs": [],
   "source": [
    "df['discrete-profile_yn_confidence'] = pd.cut(df['profile_yn:confidence'], discrete_profile_yn_confidence, labels=profile_yn_confidence_levels, include_lowest=True)"
   ]
  },
  {
   "cell_type": "code",
   "execution_count": 46,
   "metadata": {},
   "outputs": [
    {
     "data": {
      "text/html": [
       "<div>\n",
       "<style scoped>\n",
       "    .dataframe tbody tr th:only-of-type {\n",
       "        vertical-align: middle;\n",
       "    }\n",
       "\n",
       "    .dataframe tbody tr th {\n",
       "        vertical-align: top;\n",
       "    }\n",
       "\n",
       "    .dataframe thead th {\n",
       "        text-align: right;\n",
       "    }\n",
       "</style>\n",
       "<table border=\"1\" class=\"dataframe\">\n",
       "  <thead>\n",
       "    <tr style=\"text-align: right;\">\n",
       "      <th></th>\n",
       "      <th>profile_yn:confidence</th>\n",
       "      <th>discrete-profile_yn_confidence</th>\n",
       "    </tr>\n",
       "  </thead>\n",
       "  <tbody>\n",
       "    <tr>\n",
       "      <th>0</th>\n",
       "      <td>1.0</td>\n",
       "      <td>profile_yn_confidence_9</td>\n",
       "    </tr>\n",
       "    <tr>\n",
       "      <th>1</th>\n",
       "      <td>1.0</td>\n",
       "      <td>profile_yn_confidence_9</td>\n",
       "    </tr>\n",
       "    <tr>\n",
       "      <th>2</th>\n",
       "      <td>1.0</td>\n",
       "      <td>profile_yn_confidence_9</td>\n",
       "    </tr>\n",
       "    <tr>\n",
       "      <th>3</th>\n",
       "      <td>1.0</td>\n",
       "      <td>profile_yn_confidence_9</td>\n",
       "    </tr>\n",
       "    <tr>\n",
       "      <th>4</th>\n",
       "      <td>1.0</td>\n",
       "      <td>profile_yn_confidence_9</td>\n",
       "    </tr>\n",
       "    <tr>\n",
       "      <th>...</th>\n",
       "      <td>...</td>\n",
       "      <td>...</td>\n",
       "    </tr>\n",
       "    <tr>\n",
       "      <th>20045</th>\n",
       "      <td>1.0</td>\n",
       "      <td>profile_yn_confidence_9</td>\n",
       "    </tr>\n",
       "    <tr>\n",
       "      <th>20046</th>\n",
       "      <td>1.0</td>\n",
       "      <td>profile_yn_confidence_9</td>\n",
       "    </tr>\n",
       "    <tr>\n",
       "      <th>20047</th>\n",
       "      <td>1.0</td>\n",
       "      <td>profile_yn_confidence_9</td>\n",
       "    </tr>\n",
       "    <tr>\n",
       "      <th>20048</th>\n",
       "      <td>1.0</td>\n",
       "      <td>profile_yn_confidence_9</td>\n",
       "    </tr>\n",
       "    <tr>\n",
       "      <th>20049</th>\n",
       "      <td>1.0</td>\n",
       "      <td>profile_yn_confidence_9</td>\n",
       "    </tr>\n",
       "  </tbody>\n",
       "</table>\n",
       "<p>20050 rows × 2 columns</p>\n",
       "</div>"
      ],
      "text/plain": [
       "       profile_yn:confidence discrete-profile_yn_confidence\n",
       "0                        1.0        profile_yn_confidence_9\n",
       "1                        1.0        profile_yn_confidence_9\n",
       "2                        1.0        profile_yn_confidence_9\n",
       "3                        1.0        profile_yn_confidence_9\n",
       "4                        1.0        profile_yn_confidence_9\n",
       "...                      ...                            ...\n",
       "20045                    1.0        profile_yn_confidence_9\n",
       "20046                    1.0        profile_yn_confidence_9\n",
       "20047                    1.0        profile_yn_confidence_9\n",
       "20048                    1.0        profile_yn_confidence_9\n",
       "20049                    1.0        profile_yn_confidence_9\n",
       "\n",
       "[20050 rows x 2 columns]"
      ]
     },
     "execution_count": 46,
     "metadata": {},
     "output_type": "execute_result"
    }
   ],
   "source": [
    "df[['profile_yn:confidence','discrete-profile_yn_confidence']]"
   ]
  },
  {
   "cell_type": "code",
   "execution_count": 47,
   "metadata": {},
   "outputs": [
    {
     "data": {
      "text/plain": [
       "1.0000    19642\n",
       "0.6649        6\n",
       "0.6557        6\n",
       "0.6671        4\n",
       "0.6436        4\n",
       "          ...  \n",
       "0.6567        1\n",
       "0.6516        1\n",
       "0.6816        1\n",
       "0.6506        1\n",
       "0.6913        1\n",
       "Name: profile_yn:confidence, Length: 267, dtype: int64"
      ]
     },
     "execution_count": 47,
     "metadata": {},
     "output_type": "execute_result"
    }
   ],
   "source": [
    "df['profile_yn:confidence'].value_counts()"
   ]
  },
  {
   "cell_type": "code",
   "execution_count": 48,
   "metadata": {},
   "outputs": [
    {
     "data": {
      "text/plain": [
       "profile_yn_confidence_9    19644\n",
       "profile_yn_confidence_1      244\n",
       "profile_yn_confidence_2      162\n",
       "profile_yn_confidence_8        0\n",
       "profile_yn_confidence_7        0\n",
       "profile_yn_confidence_6        0\n",
       "profile_yn_confidence_5        0\n",
       "profile_yn_confidence_4        0\n",
       "profile_yn_confidence_3        0\n",
       "Name: discrete-profile_yn_confidence, dtype: int64"
      ]
     },
     "execution_count": 48,
     "metadata": {},
     "output_type": "execute_result"
    }
   ],
   "source": [
    "#As you see above we changed from 267 continues values to 9 discrete values below \n",
    "df['discrete-profile_yn_confidence'].value_counts()"
   ]
  },
  {
   "cell_type": "markdown",
   "metadata": {},
   "source": [
    "###### 3. Making fav_number discrete"
   ]
  },
  {
   "cell_type": "code",
   "execution_count": 49,
   "metadata": {},
   "outputs": [
    {
     "data": {
      "text/html": [
       "<div>\n",
       "<style scoped>\n",
       "    .dataframe tbody tr th:only-of-type {\n",
       "        vertical-align: middle;\n",
       "    }\n",
       "\n",
       "    .dataframe tbody tr th {\n",
       "        vertical-align: top;\n",
       "    }\n",
       "\n",
       "    .dataframe thead th {\n",
       "        text-align: right;\n",
       "    }\n",
       "</style>\n",
       "<table border=\"1\" class=\"dataframe\">\n",
       "  <thead>\n",
       "    <tr style=\"text-align: right;\">\n",
       "      <th></th>\n",
       "      <th>fav_number</th>\n",
       "    </tr>\n",
       "  </thead>\n",
       "  <tbody>\n",
       "    <tr>\n",
       "      <th>0</th>\n",
       "      <td>0</td>\n",
       "    </tr>\n",
       "    <tr>\n",
       "      <th>1</th>\n",
       "      <td>68</td>\n",
       "    </tr>\n",
       "    <tr>\n",
       "      <th>2</th>\n",
       "      <td>7696</td>\n",
       "    </tr>\n",
       "    <tr>\n",
       "      <th>3</th>\n",
       "      <td>202</td>\n",
       "    </tr>\n",
       "    <tr>\n",
       "      <th>4</th>\n",
       "      <td>37318</td>\n",
       "    </tr>\n",
       "    <tr>\n",
       "      <th>...</th>\n",
       "      <td>...</td>\n",
       "    </tr>\n",
       "    <tr>\n",
       "      <th>20045</th>\n",
       "      <td>302</td>\n",
       "    </tr>\n",
       "    <tr>\n",
       "      <th>20046</th>\n",
       "      <td>2513</td>\n",
       "    </tr>\n",
       "    <tr>\n",
       "      <th>20047</th>\n",
       "      <td>50</td>\n",
       "    </tr>\n",
       "    <tr>\n",
       "      <th>20048</th>\n",
       "      <td>70804</td>\n",
       "    </tr>\n",
       "    <tr>\n",
       "      <th>20049</th>\n",
       "      <td>3348</td>\n",
       "    </tr>\n",
       "  </tbody>\n",
       "</table>\n",
       "<p>20050 rows × 1 columns</p>\n",
       "</div>"
      ],
      "text/plain": [
       "       fav_number\n",
       "0               0\n",
       "1              68\n",
       "2            7696\n",
       "3             202\n",
       "4           37318\n",
       "...           ...\n",
       "20045         302\n",
       "20046        2513\n",
       "20047          50\n",
       "20048       70804\n",
       "20049        3348\n",
       "\n",
       "[20050 rows x 1 columns]"
      ]
     },
     "execution_count": 49,
     "metadata": {},
     "output_type": "execute_result"
    }
   ],
   "source": [
    "df[['fav_number']]"
   ]
  },
  {
   "cell_type": "code",
   "execution_count": 50,
   "metadata": {},
   "outputs": [
    {
     "data": {
      "text/plain": [
       "0        3334\n",
       "1         395\n",
       "2         254\n",
       "3         193\n",
       "5         162\n",
       "         ... \n",
       "4380        1\n",
       "4442        1\n",
       "12638       1\n",
       "2319        1\n",
       "4006        1\n",
       "Name: fav_number, Length: 6784, dtype: int64"
      ]
     },
     "execution_count": 50,
     "metadata": {},
     "output_type": "execute_result"
    }
   ],
   "source": [
    "df['fav_number'].value_counts()"
   ]
  },
  {
   "cell_type": "code",
   "execution_count": 51,
   "metadata": {},
   "outputs": [
    {
     "data": {
      "text/plain": [
       "Text(0.5, 1.0, 'discrete fav_number')"
      ]
     },
     "execution_count": 51,
     "metadata": {},
     "output_type": "execute_result"
    },
    {
     "data": {
      "image/png": "[encoded data removed]",
      "text/plain": [
       "<Figure size 720x360 with 1 Axes>"
      ]
     },
     "metadata": {
      "needs_background": "light"
     },
     "output_type": "display_data"
    }
   ],
   "source": [
    "df['fav_number'].plot(kind='hist', figsize=(10, 5))\n",
    "plt.pyplot.xlabel(\"fav_number\")\n",
    "plt.pyplot.ylabel(\"count\")\n",
    "plt.pyplot.title(\"discrete fav_number\")"
   ]
  },
  {
   "cell_type": "code",
   "execution_count": 52,
   "metadata": {},
   "outputs": [
    {
     "data": {
      "text/plain": [
       "array([     0.        ,  37957.88888889,  75915.77777778, 113873.66666667,\n",
       "       151831.55555556, 189789.44444444, 227747.33333333, 265705.22222222,\n",
       "       303663.11111111, 341621.        ])"
      ]
     },
     "execution_count": 52,
     "metadata": {},
     "output_type": "execute_result"
    }
   ],
   "source": [
    "discrete_fav_number = np.linspace(min(df[\"fav_number\"]), max(df[\"fav_number\"]), 10)\n",
    "discrete_fav_number"
   ]
  },
  {
   "cell_type": "code",
   "execution_count": 53,
   "metadata": {},
   "outputs": [],
   "source": [
    "fav_number_levels = ['fav_number_1','fav_number_2','fav_number_3','fav_number_4','fav_number_5','fav_number_6','fav_number_7','fav_number_8','fav_number_9']"
   ]
  },
  {
   "cell_type": "code",
   "execution_count": 54,
   "metadata": {},
   "outputs": [],
   "source": [
    "df['discrete-fav_number'] = pd.cut(df['fav_number'], discrete_fav_number, labels=fav_number_levels, include_lowest=True)"
   ]
  },
  {
   "cell_type": "code",
   "execution_count": 55,
   "metadata": {},
   "outputs": [
    {
     "data": {
      "text/html": [
       "<div>\n",
       "<style scoped>\n",
       "    .dataframe tbody tr th:only-of-type {\n",
       "        vertical-align: middle;\n",
       "    }\n",
       "\n",
       "    .dataframe tbody tr th {\n",
       "        vertical-align: top;\n",
       "    }\n",
       "\n",
       "    .dataframe thead th {\n",
       "        text-align: right;\n",
       "    }\n",
       "</style>\n",
       "<table border=\"1\" class=\"dataframe\">\n",
       "  <thead>\n",
       "    <tr style=\"text-align: right;\">\n",
       "      <th></th>\n",
       "      <th>fav_number</th>\n",
       "      <th>discrete-fav_number</th>\n",
       "    </tr>\n",
       "  </thead>\n",
       "  <tbody>\n",
       "    <tr>\n",
       "      <th>0</th>\n",
       "      <td>0</td>\n",
       "      <td>fav_number_1</td>\n",
       "    </tr>\n",
       "    <tr>\n",
       "      <th>1</th>\n",
       "      <td>68</td>\n",
       "      <td>fav_number_1</td>\n",
       "    </tr>\n",
       "    <tr>\n",
       "      <th>2</th>\n",
       "      <td>7696</td>\n",
       "      <td>fav_number_1</td>\n",
       "    </tr>\n",
       "    <tr>\n",
       "      <th>3</th>\n",
       "      <td>202</td>\n",
       "      <td>fav_number_1</td>\n",
       "    </tr>\n",
       "    <tr>\n",
       "      <th>4</th>\n",
       "      <td>37318</td>\n",
       "      <td>fav_number_1</td>\n",
       "    </tr>\n",
       "    <tr>\n",
       "      <th>...</th>\n",
       "      <td>...</td>\n",
       "      <td>...</td>\n",
       "    </tr>\n",
       "    <tr>\n",
       "      <th>20045</th>\n",
       "      <td>302</td>\n",
       "      <td>fav_number_1</td>\n",
       "    </tr>\n",
       "    <tr>\n",
       "      <th>20046</th>\n",
       "      <td>2513</td>\n",
       "      <td>fav_number_1</td>\n",
       "    </tr>\n",
       "    <tr>\n",
       "      <th>20047</th>\n",
       "      <td>50</td>\n",
       "      <td>fav_number_1</td>\n",
       "    </tr>\n",
       "    <tr>\n",
       "      <th>20048</th>\n",
       "      <td>70804</td>\n",
       "      <td>fav_number_2</td>\n",
       "    </tr>\n",
       "    <tr>\n",
       "      <th>20049</th>\n",
       "      <td>3348</td>\n",
       "      <td>fav_number_1</td>\n",
       "    </tr>\n",
       "  </tbody>\n",
       "</table>\n",
       "<p>20050 rows × 2 columns</p>\n",
       "</div>"
      ],
      "text/plain": [
       "       fav_number discrete-fav_number\n",
       "0               0        fav_number_1\n",
       "1              68        fav_number_1\n",
       "2            7696        fav_number_1\n",
       "3             202        fav_number_1\n",
       "4           37318        fav_number_1\n",
       "...           ...                 ...\n",
       "20045         302        fav_number_1\n",
       "20046        2513        fav_number_1\n",
       "20047          50        fav_number_1\n",
       "20048       70804        fav_number_2\n",
       "20049        3348        fav_number_1\n",
       "\n",
       "[20050 rows x 2 columns]"
      ]
     },
     "execution_count": 55,
     "metadata": {},
     "output_type": "execute_result"
    }
   ],
   "source": [
    "df[['fav_number','discrete-fav_number']]"
   ]
  },
  {
   "cell_type": "code",
   "execution_count": 56,
   "metadata": {},
   "outputs": [
    {
     "data": {
      "text/plain": [
       "0        3334\n",
       "1         395\n",
       "2         254\n",
       "3         193\n",
       "5         162\n",
       "         ... \n",
       "4380        1\n",
       "4442        1\n",
       "12638       1\n",
       "2319        1\n",
       "4006        1\n",
       "Name: fav_number, Length: 6784, dtype: int64"
      ]
     },
     "execution_count": 56,
     "metadata": {},
     "output_type": "execute_result"
    }
   ],
   "source": [
    "df['fav_number'].value_counts()"
   ]
  },
  {
   "cell_type": "code",
   "execution_count": 57,
   "metadata": {},
   "outputs": [
    {
     "data": {
      "text/plain": [
       "fav_number_1    19600\n",
       "fav_number_2      338\n",
       "fav_number_3       73\n",
       "fav_number_4       22\n",
       "fav_number_6        6\n",
       "fav_number_5        6\n",
       "fav_number_7        3\n",
       "fav_number_9        1\n",
       "fav_number_8        1\n",
       "Name: discrete-fav_number, dtype: int64"
      ]
     },
     "execution_count": 57,
     "metadata": {},
     "output_type": "execute_result"
    }
   ],
   "source": [
    "#As you see above we changed from 6784 continues values to 9 discrete values below \n",
    "df['discrete-fav_number'].value_counts()"
   ]
  },
  {
   "cell_type": "markdown",
   "metadata": {},
   "source": [
    "###### 4. Making tweet_count discrete"
   ]
  },
  {
   "cell_type": "code",
   "execution_count": 58,
   "metadata": {},
   "outputs": [
    {
     "data": {
      "text/html": [
       "<div>\n",
       "<style scoped>\n",
       "    .dataframe tbody tr th:only-of-type {\n",
       "        vertical-align: middle;\n",
       "    }\n",
       "\n",
       "    .dataframe tbody tr th {\n",
       "        vertical-align: top;\n",
       "    }\n",
       "\n",
       "    .dataframe thead th {\n",
       "        text-align: right;\n",
       "    }\n",
       "</style>\n",
       "<table border=\"1\" class=\"dataframe\">\n",
       "  <thead>\n",
       "    <tr style=\"text-align: right;\">\n",
       "      <th></th>\n",
       "      <th>tweet_count</th>\n",
       "    </tr>\n",
       "  </thead>\n",
       "  <tbody>\n",
       "    <tr>\n",
       "      <th>0</th>\n",
       "      <td>110964</td>\n",
       "    </tr>\n",
       "    <tr>\n",
       "      <th>1</th>\n",
       "      <td>7471</td>\n",
       "    </tr>\n",
       "    <tr>\n",
       "      <th>2</th>\n",
       "      <td>5617</td>\n",
       "    </tr>\n",
       "    <tr>\n",
       "      <th>3</th>\n",
       "      <td>1693</td>\n",
       "    </tr>\n",
       "    <tr>\n",
       "      <th>4</th>\n",
       "      <td>31462</td>\n",
       "    </tr>\n",
       "    <tr>\n",
       "      <th>...</th>\n",
       "      <td>...</td>\n",
       "    </tr>\n",
       "    <tr>\n",
       "      <th>20045</th>\n",
       "      <td>783</td>\n",
       "    </tr>\n",
       "    <tr>\n",
       "      <th>20046</th>\n",
       "      <td>13523</td>\n",
       "    </tr>\n",
       "    <tr>\n",
       "      <th>20047</th>\n",
       "      <td>26419</td>\n",
       "    </tr>\n",
       "    <tr>\n",
       "      <th>20048</th>\n",
       "      <td>56073</td>\n",
       "    </tr>\n",
       "    <tr>\n",
       "      <th>20049</th>\n",
       "      <td>2922</td>\n",
       "    </tr>\n",
       "  </tbody>\n",
       "</table>\n",
       "<p>20050 rows × 1 columns</p>\n",
       "</div>"
      ],
      "text/plain": [
       "       tweet_count\n",
       "0           110964\n",
       "1             7471\n",
       "2             5617\n",
       "3             1693\n",
       "4            31462\n",
       "...            ...\n",
       "20045          783\n",
       "20046        13523\n",
       "20047        26419\n",
       "20048        56073\n",
       "20049         2922\n",
       "\n",
       "[20050 rows x 1 columns]"
      ]
     },
     "execution_count": 58,
     "metadata": {},
     "output_type": "execute_result"
    }
   ],
   "source": [
    "df[['tweet_count']]"
   ]
  },
  {
   "cell_type": "code",
   "execution_count": 59,
   "metadata": {},
   "outputs": [
    {
     "data": {
      "text/plain": [
       "151386     30\n",
       "1          26\n",
       "2372591    24\n",
       "3          24\n",
       "2          21\n",
       "           ..\n",
       "57126       1\n",
       "15103       1\n",
       "13054       1\n",
       "4858        1\n",
       "100353      1\n",
       "Name: tweet_count, Length: 14280, dtype: int64"
      ]
     },
     "execution_count": 59,
     "metadata": {},
     "output_type": "execute_result"
    }
   ],
   "source": [
    "df['tweet_count'].value_counts()"
   ]
  },
  {
   "cell_type": "code",
   "execution_count": 60,
   "metadata": {},
   "outputs": [
    {
     "data": {
      "text/plain": [
       "Text(0.5, 1.0, 'discrete tweet_count')"
      ]
     },
     "execution_count": 60,
     "metadata": {},
     "output_type": "execute_result"
    },
    {
     "data": {
      "image/png": "[encoded data removed]",
      "text/plain": [
       "<Figure size 720x360 with 1 Axes>"
      ]
     },
     "metadata": {
      "needs_background": "light"
     },
     "output_type": "display_data"
    }
   ],
   "source": [
    "df['tweet_count'].plot(kind='hist', figsize=(10, 5))\n",
    "plt.pyplot.xlabel(\"tweet_count\")\n",
    "plt.pyplot.ylabel(\"count\")\n",
    "plt.pyplot.title(\"discrete tweet_count\")"
   ]
  },
  {
   "cell_type": "code",
   "execution_count": 61,
   "metadata": {},
   "outputs": [
    {
     "data": {
      "text/plain": [
       "array([1.00000000e+00, 2.97800778e+05, 5.95600556e+05, 8.93400333e+05,\n",
       "       1.19120011e+06, 1.48899989e+06, 1.78679967e+06, 2.08459944e+06,\n",
       "       2.38239922e+06, 2.68019900e+06])"
      ]
     },
     "execution_count": 61,
     "metadata": {},
     "output_type": "execute_result"
    }
   ],
   "source": [
    "discrete_tweet_count = np.linspace(min(df[\"tweet_count\"]), max(df[\"tweet_count\"]), 10)\n",
    "discrete_tweet_count"
   ]
  },
  {
   "cell_type": "code",
   "execution_count": 62,
   "metadata": {},
   "outputs": [],
   "source": [
    "tweet_count_levels = ['tweet_count_1','tweet_count_2','tweet_count_3','tweet_count_4','tweet_count_5','tweet_count_6','tweet_count_7','tweet_count_8','tweet_count_9']"
   ]
  },
  {
   "cell_type": "code",
   "execution_count": 63,
   "metadata": {},
   "outputs": [],
   "source": [
    "df['discrete-tweet_count'] = pd.cut(df['tweet_count'], discrete_tweet_count, labels=tweet_count_levels, include_lowest=True)"
   ]
  },
  {
   "cell_type": "code",
   "execution_count": 64,
   "metadata": {},
   "outputs": [
    {
     "data": {
      "text/html": [
       "<div>\n",
       "<style scoped>\n",
       "    .dataframe tbody tr th:only-of-type {\n",
       "        vertical-align: middle;\n",
       "    }\n",
       "\n",
       "    .dataframe tbody tr th {\n",
       "        vertical-align: top;\n",
       "    }\n",
       "\n",
       "    .dataframe thead th {\n",
       "        text-align: right;\n",
       "    }\n",
       "</style>\n",
       "<table border=\"1\" class=\"dataframe\">\n",
       "  <thead>\n",
       "    <tr style=\"text-align: right;\">\n",
       "      <th></th>\n",
       "      <th>tweet_count</th>\n",
       "      <th>discrete-tweet_count</th>\n",
       "    </tr>\n",
       "  </thead>\n",
       "  <tbody>\n",
       "    <tr>\n",
       "      <th>0</th>\n",
       "      <td>110964</td>\n",
       "      <td>tweet_count_1</td>\n",
       "    </tr>\n",
       "    <tr>\n",
       "      <th>1</th>\n",
       "      <td>7471</td>\n",
       "      <td>tweet_count_1</td>\n",
       "    </tr>\n",
       "    <tr>\n",
       "      <th>2</th>\n",
       "      <td>5617</td>\n",
       "      <td>tweet_count_1</td>\n",
       "    </tr>\n",
       "    <tr>\n",
       "      <th>3</th>\n",
       "      <td>1693</td>\n",
       "      <td>tweet_count_1</td>\n",
       "    </tr>\n",
       "    <tr>\n",
       "      <th>4</th>\n",
       "      <td>31462</td>\n",
       "      <td>tweet_count_1</td>\n",
       "    </tr>\n",
       "    <tr>\n",
       "      <th>...</th>\n",
       "      <td>...</td>\n",
       "      <td>...</td>\n",
       "    </tr>\n",
       "    <tr>\n",
       "      <th>20045</th>\n",
       "      <td>783</td>\n",
       "      <td>tweet_count_1</td>\n",
       "    </tr>\n",
       "    <tr>\n",
       "      <th>20046</th>\n",
       "      <td>13523</td>\n",
       "      <td>tweet_count_1</td>\n",
       "    </tr>\n",
       "    <tr>\n",
       "      <th>20047</th>\n",
       "      <td>26419</td>\n",
       "      <td>tweet_count_1</td>\n",
       "    </tr>\n",
       "    <tr>\n",
       "      <th>20048</th>\n",
       "      <td>56073</td>\n",
       "      <td>tweet_count_1</td>\n",
       "    </tr>\n",
       "    <tr>\n",
       "      <th>20049</th>\n",
       "      <td>2922</td>\n",
       "      <td>tweet_count_1</td>\n",
       "    </tr>\n",
       "  </tbody>\n",
       "</table>\n",
       "<p>20050 rows × 2 columns</p>\n",
       "</div>"
      ],
      "text/plain": [
       "       tweet_count discrete-tweet_count\n",
       "0           110964        tweet_count_1\n",
       "1             7471        tweet_count_1\n",
       "2             5617        tweet_count_1\n",
       "3             1693        tweet_count_1\n",
       "4            31462        tweet_count_1\n",
       "...            ...                  ...\n",
       "20045          783        tweet_count_1\n",
       "20046        13523        tweet_count_1\n",
       "20047        26419        tweet_count_1\n",
       "20048        56073        tweet_count_1\n",
       "20049         2922        tweet_count_1\n",
       "\n",
       "[20050 rows x 2 columns]"
      ]
     },
     "execution_count": 64,
     "metadata": {},
     "output_type": "execute_result"
    }
   ],
   "source": [
    "df[['tweet_count','discrete-tweet_count']]"
   ]
  },
  {
   "cell_type": "code",
   "execution_count": 65,
   "metadata": {},
   "outputs": [
    {
     "data": {
      "text/plain": [
       "151386     30\n",
       "1          26\n",
       "2372591    24\n",
       "3          24\n",
       "2          21\n",
       "           ..\n",
       "57126       1\n",
       "15103       1\n",
       "13054       1\n",
       "4858        1\n",
       "100353      1\n",
       "Name: tweet_count, Length: 14280, dtype: int64"
      ]
     },
     "execution_count": 65,
     "metadata": {},
     "output_type": "execute_result"
    }
   ],
   "source": [
    "df['tweet_count'].value_counts()"
   ]
  },
  {
   "cell_type": "code",
   "execution_count": 66,
   "metadata": {},
   "outputs": [
    {
     "data": {
      "text/plain": [
       "tweet_count_1    19766\n",
       "tweet_count_2      181\n",
       "tweet_count_3       38\n",
       "tweet_count_4       27\n",
       "tweet_count_8       24\n",
       "tweet_count_5       10\n",
       "tweet_count_6        2\n",
       "tweet_count_9        1\n",
       "tweet_count_7        1\n",
       "Name: discrete-tweet_count, dtype: int64"
      ]
     },
     "execution_count": 66,
     "metadata": {},
     "output_type": "execute_result"
    }
   ],
   "source": [
    "#As you see above we changed from 14280 continues values to 9 discrete values below \n",
    "df['discrete-tweet_count'].value_counts()"
   ]
  },
  {
   "cell_type": "code",
   "execution_count": 67,
   "metadata": {},
   "outputs": [
    {
     "data": {
      "text/html": [
       "<div>\n",
       "<style scoped>\n",
       "    .dataframe tbody tr th:only-of-type {\n",
       "        vertical-align: middle;\n",
       "    }\n",
       "\n",
       "    .dataframe tbody tr th {\n",
       "        vertical-align: top;\n",
       "    }\n",
       "\n",
       "    .dataframe thead th {\n",
       "        text-align: right;\n",
       "    }\n",
       "</style>\n",
       "<table border=\"1\" class=\"dataframe\">\n",
       "  <thead>\n",
       "    <tr style=\"text-align: right;\">\n",
       "      <th></th>\n",
       "      <th>_unit_id</th>\n",
       "      <th>_golden</th>\n",
       "      <th>_unit_state</th>\n",
       "      <th>_trusted_judgments</th>\n",
       "      <th>_last_judgment_at</th>\n",
       "      <th>gender</th>\n",
       "      <th>gender:confidence</th>\n",
       "      <th>profile_yn</th>\n",
       "      <th>profile_yn:confidence</th>\n",
       "      <th>created</th>\n",
       "      <th>...</th>\n",
       "      <th>tweet_coord</th>\n",
       "      <th>tweet_count</th>\n",
       "      <th>tweet_created</th>\n",
       "      <th>tweet_id</th>\n",
       "      <th>tweet_location</th>\n",
       "      <th>user_timezone</th>\n",
       "      <th>discrete-gender:confidence</th>\n",
       "      <th>discrete-profile_yn_confidence</th>\n",
       "      <th>discrete-fav_number</th>\n",
       "      <th>discrete-tweet_count</th>\n",
       "    </tr>\n",
       "  </thead>\n",
       "  <tbody>\n",
       "    <tr>\n",
       "      <th>0</th>\n",
       "      <td>815719226</td>\n",
       "      <td>False</td>\n",
       "      <td>finalized</td>\n",
       "      <td>3</td>\n",
       "      <td>10/26/15 23:24</td>\n",
       "      <td>male</td>\n",
       "      <td>1.0000</td>\n",
       "      <td>yes</td>\n",
       "      <td>1.0</td>\n",
       "      <td>12/5/13 1:48</td>\n",
       "      <td>...</td>\n",
       "      <td>[40.798598, -73.971836]</td>\n",
       "      <td>110964</td>\n",
       "      <td>10/26/15 12:40</td>\n",
       "      <td>6.587300e+17</td>\n",
       "      <td>main; @Kan1shk3</td>\n",
       "      <td>Chennai</td>\n",
       "      <td>gender:confidence_9</td>\n",
       "      <td>profile_yn_confidence_9</td>\n",
       "      <td>fav_number_1</td>\n",
       "      <td>tweet_count_1</td>\n",
       "    </tr>\n",
       "    <tr>\n",
       "      <th>1</th>\n",
       "      <td>815719227</td>\n",
       "      <td>False</td>\n",
       "      <td>finalized</td>\n",
       "      <td>3</td>\n",
       "      <td>10/26/15 23:30</td>\n",
       "      <td>male</td>\n",
       "      <td>1.0000</td>\n",
       "      <td>yes</td>\n",
       "      <td>1.0</td>\n",
       "      <td>10/1/12 13:51</td>\n",
       "      <td>...</td>\n",
       "      <td>[40.798598, -73.971836]</td>\n",
       "      <td>7471</td>\n",
       "      <td>10/26/15 12:40</td>\n",
       "      <td>6.587300e+17</td>\n",
       "      <td>London</td>\n",
       "      <td>Eastern Time (US &amp; Canada)</td>\n",
       "      <td>gender:confidence_9</td>\n",
       "      <td>profile_yn_confidence_9</td>\n",
       "      <td>fav_number_1</td>\n",
       "      <td>tweet_count_1</td>\n",
       "    </tr>\n",
       "    <tr>\n",
       "      <th>2</th>\n",
       "      <td>815719228</td>\n",
       "      <td>False</td>\n",
       "      <td>finalized</td>\n",
       "      <td>3</td>\n",
       "      <td>10/26/15 23:33</td>\n",
       "      <td>male</td>\n",
       "      <td>0.6625</td>\n",
       "      <td>yes</td>\n",
       "      <td>1.0</td>\n",
       "      <td>11/28/14 11:30</td>\n",
       "      <td>...</td>\n",
       "      <td>[40.798598, -73.971836]</td>\n",
       "      <td>5617</td>\n",
       "      <td>10/26/15 12:40</td>\n",
       "      <td>6.587300e+17</td>\n",
       "      <td>clcncl</td>\n",
       "      <td>Belgrade</td>\n",
       "      <td>gender:confidence_6</td>\n",
       "      <td>profile_yn_confidence_9</td>\n",
       "      <td>fav_number_1</td>\n",
       "      <td>tweet_count_1</td>\n",
       "    </tr>\n",
       "    <tr>\n",
       "      <th>3</th>\n",
       "      <td>815719229</td>\n",
       "      <td>False</td>\n",
       "      <td>finalized</td>\n",
       "      <td>3</td>\n",
       "      <td>10/26/15 23:10</td>\n",
       "      <td>male</td>\n",
       "      <td>1.0000</td>\n",
       "      <td>yes</td>\n",
       "      <td>1.0</td>\n",
       "      <td>6/11/09 22:39</td>\n",
       "      <td>...</td>\n",
       "      <td>[40.798598, -73.971836]</td>\n",
       "      <td>1693</td>\n",
       "      <td>10/26/15 12:40</td>\n",
       "      <td>6.587300e+17</td>\n",
       "      <td>Palo Alto, CA</td>\n",
       "      <td>Pacific Time (US &amp; Canada)</td>\n",
       "      <td>gender:confidence_9</td>\n",
       "      <td>profile_yn_confidence_9</td>\n",
       "      <td>fav_number_1</td>\n",
       "      <td>tweet_count_1</td>\n",
       "    </tr>\n",
       "    <tr>\n",
       "      <th>4</th>\n",
       "      <td>815719230</td>\n",
       "      <td>False</td>\n",
       "      <td>finalized</td>\n",
       "      <td>3</td>\n",
       "      <td>10/27/15 1:15</td>\n",
       "      <td>female</td>\n",
       "      <td>1.0000</td>\n",
       "      <td>yes</td>\n",
       "      <td>1.0</td>\n",
       "      <td>4/16/14 13:23</td>\n",
       "      <td>...</td>\n",
       "      <td>[40.798598, -73.971836]</td>\n",
       "      <td>31462</td>\n",
       "      <td>10/26/15 12:40</td>\n",
       "      <td>6.587300e+17</td>\n",
       "      <td>London</td>\n",
       "      <td>Eastern Time (US &amp; Canada)</td>\n",
       "      <td>gender:confidence_9</td>\n",
       "      <td>profile_yn_confidence_9</td>\n",
       "      <td>fav_number_1</td>\n",
       "      <td>tweet_count_1</td>\n",
       "    </tr>\n",
       "    <tr>\n",
       "      <th>...</th>\n",
       "      <td>...</td>\n",
       "      <td>...</td>\n",
       "      <td>...</td>\n",
       "      <td>...</td>\n",
       "      <td>...</td>\n",
       "      <td>...</td>\n",
       "      <td>...</td>\n",
       "      <td>...</td>\n",
       "      <td>...</td>\n",
       "      <td>...</td>\n",
       "      <td>...</td>\n",
       "      <td>...</td>\n",
       "      <td>...</td>\n",
       "      <td>...</td>\n",
       "      <td>...</td>\n",
       "      <td>...</td>\n",
       "      <td>...</td>\n",
       "      <td>...</td>\n",
       "      <td>...</td>\n",
       "      <td>...</td>\n",
       "      <td>...</td>\n",
       "    </tr>\n",
       "    <tr>\n",
       "      <th>20045</th>\n",
       "      <td>815757572</td>\n",
       "      <td>True</td>\n",
       "      <td>golden</td>\n",
       "      <td>259</td>\n",
       "      <td>10/26/15 23:05</td>\n",
       "      <td>female</td>\n",
       "      <td>1.0000</td>\n",
       "      <td>yes</td>\n",
       "      <td>1.0</td>\n",
       "      <td>8/5/15 21:16</td>\n",
       "      <td>...</td>\n",
       "      <td>[40.798598, -73.971836]</td>\n",
       "      <td>783</td>\n",
       "      <td>10/26/15 13:20</td>\n",
       "      <td>6.587400e+17</td>\n",
       "      <td>Verona ªÁ</td>\n",
       "      <td>Eastern Time (US &amp; Canada)</td>\n",
       "      <td>gender:confidence_9</td>\n",
       "      <td>profile_yn_confidence_9</td>\n",
       "      <td>fav_number_1</td>\n",
       "      <td>tweet_count_1</td>\n",
       "    </tr>\n",
       "    <tr>\n",
       "      <th>20046</th>\n",
       "      <td>815757681</td>\n",
       "      <td>True</td>\n",
       "      <td>golden</td>\n",
       "      <td>248</td>\n",
       "      <td>10/26/15 23:05</td>\n",
       "      <td>male</td>\n",
       "      <td>1.0000</td>\n",
       "      <td>yes</td>\n",
       "      <td>1.0</td>\n",
       "      <td>8/15/12 21:17</td>\n",
       "      <td>...</td>\n",
       "      <td>[40.798598, -73.971836]</td>\n",
       "      <td>13523</td>\n",
       "      <td>10/26/15 12:40</td>\n",
       "      <td>6.587300e+17</td>\n",
       "      <td>Kansas City, MO</td>\n",
       "      <td>Eastern Time (US &amp; Canada)</td>\n",
       "      <td>gender:confidence_9</td>\n",
       "      <td>profile_yn_confidence_9</td>\n",
       "      <td>fav_number_1</td>\n",
       "      <td>tweet_count_1</td>\n",
       "    </tr>\n",
       "    <tr>\n",
       "      <th>20047</th>\n",
       "      <td>815757830</td>\n",
       "      <td>True</td>\n",
       "      <td>golden</td>\n",
       "      <td>264</td>\n",
       "      <td>10/26/15 23:05</td>\n",
       "      <td>male</td>\n",
       "      <td>1.0000</td>\n",
       "      <td>yes</td>\n",
       "      <td>1.0</td>\n",
       "      <td>9/3/12 1:17</td>\n",
       "      <td>...</td>\n",
       "      <td>[40.798598, -73.971836]</td>\n",
       "      <td>26419</td>\n",
       "      <td>10/26/15 13:20</td>\n",
       "      <td>6.587400e+17</td>\n",
       "      <td>Lagos Nigeria</td>\n",
       "      <td>Eastern Time (US &amp; Canada)</td>\n",
       "      <td>gender:confidence_9</td>\n",
       "      <td>profile_yn_confidence_9</td>\n",
       "      <td>fav_number_1</td>\n",
       "      <td>tweet_count_1</td>\n",
       "    </tr>\n",
       "    <tr>\n",
       "      <th>20048</th>\n",
       "      <td>815757921</td>\n",
       "      <td>True</td>\n",
       "      <td>golden</td>\n",
       "      <td>250</td>\n",
       "      <td>10/26/15 23:05</td>\n",
       "      <td>female</td>\n",
       "      <td>0.8489</td>\n",
       "      <td>yes</td>\n",
       "      <td>1.0</td>\n",
       "      <td>11/6/12 23:46</td>\n",
       "      <td>...</td>\n",
       "      <td>[40.798598, -73.971836]</td>\n",
       "      <td>56073</td>\n",
       "      <td>10/26/15 12:40</td>\n",
       "      <td>6.587300e+17</td>\n",
       "      <td>Texas Hill Country</td>\n",
       "      <td>Eastern Time (US &amp; Canada)</td>\n",
       "      <td>gender:confidence_8</td>\n",
       "      <td>profile_yn_confidence_9</td>\n",
       "      <td>fav_number_2</td>\n",
       "      <td>tweet_count_1</td>\n",
       "    </tr>\n",
       "    <tr>\n",
       "      <th>20049</th>\n",
       "      <td>815757985</td>\n",
       "      <td>True</td>\n",
       "      <td>golden</td>\n",
       "      <td>249</td>\n",
       "      <td>10/26/15 23:05</td>\n",
       "      <td>female</td>\n",
       "      <td>1.0000</td>\n",
       "      <td>yes</td>\n",
       "      <td>1.0</td>\n",
       "      <td>4/14/14 17:22</td>\n",
       "      <td>...</td>\n",
       "      <td>[40.798598, -73.971836]</td>\n",
       "      <td>2922</td>\n",
       "      <td>10/26/15 13:19</td>\n",
       "      <td>6.587400e+17</td>\n",
       "      <td>London</td>\n",
       "      <td>Eastern Time (US &amp; Canada)</td>\n",
       "      <td>gender:confidence_9</td>\n",
       "      <td>profile_yn_confidence_9</td>\n",
       "      <td>fav_number_1</td>\n",
       "      <td>tweet_count_1</td>\n",
       "    </tr>\n",
       "  </tbody>\n",
       "</table>\n",
       "<p>20050 rows × 30 columns</p>\n",
       "</div>"
      ],
      "text/plain": [
       "        _unit_id  _golden _unit_state  _trusted_judgments _last_judgment_at  \\\n",
       "0      815719226    False   finalized                   3    10/26/15 23:24   \n",
       "1      815719227    False   finalized                   3    10/26/15 23:30   \n",
       "2      815719228    False   finalized                   3    10/26/15 23:33   \n",
       "3      815719229    False   finalized                   3    10/26/15 23:10   \n",
       "4      815719230    False   finalized                   3     10/27/15 1:15   \n",
       "...          ...      ...         ...                 ...               ...   \n",
       "20045  815757572     True      golden                 259    10/26/15 23:05   \n",
       "20046  815757681     True      golden                 248    10/26/15 23:05   \n",
       "20047  815757830     True      golden                 264    10/26/15 23:05   \n",
       "20048  815757921     True      golden                 250    10/26/15 23:05   \n",
       "20049  815757985     True      golden                 249    10/26/15 23:05   \n",
       "\n",
       "       gender  gender:confidence profile_yn  profile_yn:confidence  \\\n",
       "0        male             1.0000        yes                    1.0   \n",
       "1        male             1.0000        yes                    1.0   \n",
       "2        male             0.6625        yes                    1.0   \n",
       "3        male             1.0000        yes                    1.0   \n",
       "4      female             1.0000        yes                    1.0   \n",
       "...       ...                ...        ...                    ...   \n",
       "20045  female             1.0000        yes                    1.0   \n",
       "20046    male             1.0000        yes                    1.0   \n",
       "20047    male             1.0000        yes                    1.0   \n",
       "20048  female             0.8489        yes                    1.0   \n",
       "20049  female             1.0000        yes                    1.0   \n",
       "\n",
       "              created  ...              tweet_coord  tweet_count  \\\n",
       "0        12/5/13 1:48  ...  [40.798598, -73.971836]       110964   \n",
       "1       10/1/12 13:51  ...  [40.798598, -73.971836]         7471   \n",
       "2      11/28/14 11:30  ...  [40.798598, -73.971836]         5617   \n",
       "3       6/11/09 22:39  ...  [40.798598, -73.971836]         1693   \n",
       "4       4/16/14 13:23  ...  [40.798598, -73.971836]        31462   \n",
       "...               ...  ...                      ...          ...   \n",
       "20045    8/5/15 21:16  ...  [40.798598, -73.971836]          783   \n",
       "20046   8/15/12 21:17  ...  [40.798598, -73.971836]        13523   \n",
       "20047     9/3/12 1:17  ...  [40.798598, -73.971836]        26419   \n",
       "20048   11/6/12 23:46  ...  [40.798598, -73.971836]        56073   \n",
       "20049   4/14/14 17:22  ...  [40.798598, -73.971836]         2922   \n",
       "\n",
       "        tweet_created      tweet_id      tweet_location  \\\n",
       "0      10/26/15 12:40  6.587300e+17     main; @Kan1shk3   \n",
       "1      10/26/15 12:40  6.587300e+17              London   \n",
       "2      10/26/15 12:40  6.587300e+17              clcncl   \n",
       "3      10/26/15 12:40  6.587300e+17       Palo Alto, CA   \n",
       "4      10/26/15 12:40  6.587300e+17              London   \n",
       "...               ...           ...                 ...   \n",
       "20045  10/26/15 13:20  6.587400e+17          Verona ªÁ   \n",
       "20046  10/26/15 12:40  6.587300e+17     Kansas City, MO   \n",
       "20047  10/26/15 13:20  6.587400e+17      Lagos Nigeria    \n",
       "20048  10/26/15 12:40  6.587300e+17  Texas Hill Country   \n",
       "20049  10/26/15 13:19  6.587400e+17              London   \n",
       "\n",
       "                    user_timezone discrete-gender:confidence  \\\n",
       "0                         Chennai        gender:confidence_9   \n",
       "1      Eastern Time (US & Canada)        gender:confidence_9   \n",
       "2                        Belgrade        gender:confidence_6   \n",
       "3      Pacific Time (US & Canada)        gender:confidence_9   \n",
       "4      Eastern Time (US & Canada)        gender:confidence_9   \n",
       "...                           ...                        ...   \n",
       "20045  Eastern Time (US & Canada)        gender:confidence_9   \n",
       "20046  Eastern Time (US & Canada)        gender:confidence_9   \n",
       "20047  Eastern Time (US & Canada)        gender:confidence_9   \n",
       "20048  Eastern Time (US & Canada)        gender:confidence_8   \n",
       "20049  Eastern Time (US & Canada)        gender:confidence_9   \n",
       "\n",
       "       discrete-profile_yn_confidence discrete-fav_number discrete-tweet_count  \n",
       "0             profile_yn_confidence_9        fav_number_1        tweet_count_1  \n",
       "1             profile_yn_confidence_9        fav_number_1        tweet_count_1  \n",
       "2             profile_yn_confidence_9        fav_number_1        tweet_count_1  \n",
       "3             profile_yn_confidence_9        fav_number_1        tweet_count_1  \n",
       "4             profile_yn_confidence_9        fav_number_1        tweet_count_1  \n",
       "...                               ...                 ...                  ...  \n",
       "20045         profile_yn_confidence_9        fav_number_1        tweet_count_1  \n",
       "20046         profile_yn_confidence_9        fav_number_1        tweet_count_1  \n",
       "20047         profile_yn_confidence_9        fav_number_1        tweet_count_1  \n",
       "20048         profile_yn_confidence_9        fav_number_2        tweet_count_1  \n",
       "20049         profile_yn_confidence_9        fav_number_1        tweet_count_1  \n",
       "\n",
       "[20050 rows x 30 columns]"
      ]
     },
     "execution_count": 67,
     "metadata": {},
     "output_type": "execute_result"
    }
   ],
   "source": [
    "df\n"
   ]
  },
  {
   "cell_type": "code",
   "execution_count": 68,
   "metadata": {},
   "outputs": [],
   "source": [
    "df.to_csv(r'data.csv')"
   ]
  },
  {
   "cell_type": "code",
   "execution_count": null,
   "metadata": {},
   "outputs": [],
   "source": []
  },
  {
   "cell_type": "code",
   "execution_count": null,
   "metadata": {},
   "outputs": [],
   "source": []
  }
 ],
 "metadata": {
  "kernelspec": {
   "display_name": "Python 3",
   "language": "python",
   "name": "python3"
  },
  "language_info": {
   "codemirror_mode": {
    "name": "ipython",
    "version": 3
   },
   "file_extension": ".py",
   "mimetype": "text/x-python",
   "name": "python",
   "nbconvert_exporter": "python",
   "pygments_lexer": "ipython3",
   "version": "3.6.5"
  }
 },
 "nbformat": 4,
 "nbformat_minor": 4
}
